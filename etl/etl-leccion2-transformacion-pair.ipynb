{
 "cells": [
  {
   "attachments": {},
   "cell_type": "markdown",
   "metadata": {},
   "source": [
    "# **Ejercicios de pair programming Módulo 2 Sprint 2**\n",
    "## **ETL: Lección 2**\n",
    "### **Transformación: Limpieza**\n",
    "\n",
    "---"
   ]
  },
  {
   "cell_type": "code",
   "execution_count": 2,
   "metadata": {},
   "outputs": [],
   "source": [
    "import pandas as pd\n",
    "import requests\n",
    "from datetime import datetime, timedelta"
   ]
  },
  {
   "cell_type": "code",
   "execution_count": 39,
   "metadata": {},
   "outputs": [],
   "source": [
    "df_ccaa = pd.read_csv(\"data/poblacion_comunidades.csv\", index_col = 0)"
   ]
  },
  {
   "attachments": {},
   "cell_type": "markdown",
   "metadata": {},
   "source": [
    "\n",
    "  \n",
    "- En la lección de hoy aprendimos como transformar nuestros datos para que estén preparados para almacearlos en una BBDD. En este momento tenemos dos fuentes de datos:\n",
    "  \n"
   ]
  },
  {
   "attachments": {},
   "cell_type": "markdown",
   "metadata": {},
   "source": [
    "1. El csv donde tenemos la información censal de cada Comunidad Autónoma tiene algunas columnas que no son redundantes para nuestro análisis, en este csv tendremos que:\n",
    "- Eliminar la columna de Comunidades_y_Ciudades_Autónomas\n"
   ]
  },
  {
   "cell_type": "code",
   "execution_count": 9,
   "metadata": {},
   "outputs": [],
   "source": [
    "df_ccaa.drop([\"Comunidades_y_Ciudades_Autónomas\"], axis =1, inplace = True)"
   ]
  },
  {
   "attachments": {},
   "cell_type": "markdown",
   "metadata": {},
   "source": [
    "2. En el csv con la información de generación de energías renovables y no renovables a nivel nacional deberéis:\n",
    "- Para las columnas value y percentage, redondear los decimales de los valores a 2.\n",
    "- La columna datetime es de tipo string, pero esto a nosotras no nos interesa. Además, en esta columna tiene tanto la fecha como la hora, pero en realidad la hora no nos esta aportando nada de información, es por esto que:\n",
    "- Deberéis crear una columna nueva donde solo tengamos la información de la fecha en formato AÑO / MES / DIA.\n",
    "- Una vez creada la columna anterior, convertirla a datetime.\n"
   ]
  },
  {
   "cell_type": "code",
   "execution_count": 10,
   "metadata": {},
   "outputs": [
    {
     "data": {
      "text/html": [
       "<div>\n",
       "<style scoped>\n",
       "    .dataframe tbody tr th:only-of-type {\n",
       "        vertical-align: middle;\n",
       "    }\n",
       "\n",
       "    .dataframe tbody tr th {\n",
       "        vertical-align: top;\n",
       "    }\n",
       "\n",
       "    .dataframe thead th {\n",
       "        text-align: right;\n",
       "    }\n",
       "</style>\n",
       "<table border=\"1\" class=\"dataframe\">\n",
       "  <thead>\n",
       "    <tr style=\"text-align: right;\">\n",
       "      <th></th>\n",
       "      <th>Comunidad</th>\n",
       "      <th>indice</th>\n",
       "      <th>Año</th>\n",
       "      <th>Total</th>\n",
       "    </tr>\n",
       "  </thead>\n",
       "  <tbody>\n",
       "    <tr>\n",
       "      <th>0</th>\n",
       "      <td>Ceuta</td>\n",
       "      <td>8744</td>\n",
       "      <td>2022</td>\n",
       "      <td>83.117</td>\n",
       "    </tr>\n",
       "    <tr>\n",
       "      <th>1</th>\n",
       "      <td>Ceuta</td>\n",
       "      <td>8744</td>\n",
       "      <td>2021</td>\n",
       "      <td>83.517</td>\n",
       "    </tr>\n",
       "    <tr>\n",
       "      <th>2</th>\n",
       "      <td>Ceuta</td>\n",
       "      <td>8744</td>\n",
       "      <td>2020</td>\n",
       "      <td>84.202</td>\n",
       "    </tr>\n",
       "    <tr>\n",
       "      <th>3</th>\n",
       "      <td>Ceuta</td>\n",
       "      <td>8744</td>\n",
       "      <td>2019</td>\n",
       "      <td>84.777</td>\n",
       "    </tr>\n",
       "    <tr>\n",
       "      <th>4</th>\n",
       "      <td>Ceuta</td>\n",
       "      <td>8744</td>\n",
       "      <td>2018</td>\n",
       "      <td>85.144</td>\n",
       "    </tr>\n",
       "  </tbody>\n",
       "</table>\n",
       "</div>"
      ],
      "text/plain": [
       "  Comunidad  indice   Año   Total\n",
       "0     Ceuta    8744  2022  83.117\n",
       "1     Ceuta    8744  2021  83.517\n",
       "2     Ceuta    8744  2020  84.202\n",
       "3     Ceuta    8744  2019  84.777\n",
       "4     Ceuta    8744  2018  85.144"
      ]
     },
     "execution_count": 10,
     "metadata": {},
     "output_type": "execute_result"
    }
   ],
   "source": [
    "df_ccaa.head()"
   ]
  },
  {
   "cell_type": "code",
   "execution_count": 14,
   "metadata": {},
   "outputs": [
    {
     "data": {
      "text/html": [
       "<div>\n",
       "<style scoped>\n",
       "    .dataframe tbody tr th:only-of-type {\n",
       "        vertical-align: middle;\n",
       "    }\n",
       "\n",
       "    .dataframe tbody tr th {\n",
       "        vertical-align: top;\n",
       "    }\n",
       "\n",
       "    .dataframe thead th {\n",
       "        text-align: right;\n",
       "    }\n",
       "</style>\n",
       "<table border=\"1\" class=\"dataframe\">\n",
       "  <thead>\n",
       "    <tr style=\"text-align: right;\">\n",
       "      <th></th>\n",
       "      <th>value</th>\n",
       "      <th>percentage</th>\n",
       "      <th>datetime</th>\n",
       "      <th>tipo</th>\n",
       "    </tr>\n",
       "  </thead>\n",
       "  <tbody>\n",
       "    <tr>\n",
       "      <th>0</th>\n",
       "      <td>182024.9820</td>\n",
       "      <td>0.290121</td>\n",
       "      <td>2011-01-01T00:00:00.000+01:00</td>\n",
       "      <td>Renovable</td>\n",
       "    </tr>\n",
       "    <tr>\n",
       "      <th>1</th>\n",
       "      <td>265705.8895</td>\n",
       "      <td>0.387418</td>\n",
       "      <td>2011-01-02T00:00:00.000+01:00</td>\n",
       "      <td>Renovable</td>\n",
       "    </tr>\n",
       "    <tr>\n",
       "      <th>2</th>\n",
       "      <td>249489.5735</td>\n",
       "      <td>0.295983</td>\n",
       "      <td>2011-01-03T00:00:00.000+01:00</td>\n",
       "      <td>Renovable</td>\n",
       "    </tr>\n",
       "    <tr>\n",
       "      <th>3</th>\n",
       "      <td>270981.7130</td>\n",
       "      <td>0.310937</td>\n",
       "      <td>2011-01-04T00:00:00.000+01:00</td>\n",
       "      <td>Renovable</td>\n",
       "    </tr>\n",
       "    <tr>\n",
       "      <th>4</th>\n",
       "      <td>379833.0150</td>\n",
       "      <td>0.452824</td>\n",
       "      <td>2011-01-05T00:00:00.000+01:00</td>\n",
       "      <td>Renovable</td>\n",
       "    </tr>\n",
       "  </tbody>\n",
       "</table>\n",
       "</div>"
      ],
      "text/plain": [
       "         value  percentage                       datetime       tipo\n",
       "0  182024.9820    0.290121  2011-01-01T00:00:00.000+01:00  Renovable\n",
       "1  265705.8895    0.387418  2011-01-02T00:00:00.000+01:00  Renovable\n",
       "2  249489.5735    0.295983  2011-01-03T00:00:00.000+01:00  Renovable\n",
       "3  270981.7130    0.310937  2011-01-04T00:00:00.000+01:00  Renovable\n",
       "4  379833.0150    0.452824  2011-01-05T00:00:00.000+01:00  Renovable"
      ]
     },
     "execution_count": 14,
     "metadata": {},
     "output_type": "execute_result"
    }
   ],
   "source": [
    "df_energias=pd.read_csv(\"data/energias.csv\", index_col=0)\n",
    "df_energias.head()\n"
   ]
  },
  {
   "cell_type": "code",
   "execution_count": 17,
   "metadata": {},
   "outputs": [
    {
     "data": {
      "text/html": [
       "<div>\n",
       "<style scoped>\n",
       "    .dataframe tbody tr th:only-of-type {\n",
       "        vertical-align: middle;\n",
       "    }\n",
       "\n",
       "    .dataframe tbody tr th {\n",
       "        vertical-align: top;\n",
       "    }\n",
       "\n",
       "    .dataframe thead th {\n",
       "        text-align: right;\n",
       "    }\n",
       "</style>\n",
       "<table border=\"1\" class=\"dataframe\">\n",
       "  <thead>\n",
       "    <tr style=\"text-align: right;\">\n",
       "      <th></th>\n",
       "      <th>value</th>\n",
       "      <th>percentage</th>\n",
       "      <th>datetime</th>\n",
       "      <th>tipo</th>\n",
       "    </tr>\n",
       "  </thead>\n",
       "  <tbody>\n",
       "    <tr>\n",
       "      <th>0</th>\n",
       "      <td>182024.98</td>\n",
       "      <td>0.29</td>\n",
       "      <td>2011-01-01T00:00:00.000+01:00</td>\n",
       "      <td>Renovable</td>\n",
       "    </tr>\n",
       "    <tr>\n",
       "      <th>1</th>\n",
       "      <td>265705.89</td>\n",
       "      <td>0.39</td>\n",
       "      <td>2011-01-02T00:00:00.000+01:00</td>\n",
       "      <td>Renovable</td>\n",
       "    </tr>\n",
       "    <tr>\n",
       "      <th>2</th>\n",
       "      <td>249489.57</td>\n",
       "      <td>0.30</td>\n",
       "      <td>2011-01-03T00:00:00.000+01:00</td>\n",
       "      <td>Renovable</td>\n",
       "    </tr>\n",
       "    <tr>\n",
       "      <th>3</th>\n",
       "      <td>270981.71</td>\n",
       "      <td>0.31</td>\n",
       "      <td>2011-01-04T00:00:00.000+01:00</td>\n",
       "      <td>Renovable</td>\n",
       "    </tr>\n",
       "    <tr>\n",
       "      <th>4</th>\n",
       "      <td>379833.02</td>\n",
       "      <td>0.45</td>\n",
       "      <td>2011-01-05T00:00:00.000+01:00</td>\n",
       "      <td>Renovable</td>\n",
       "    </tr>\n",
       "  </tbody>\n",
       "</table>\n",
       "</div>"
      ],
      "text/plain": [
       "       value  percentage                       datetime       tipo\n",
       "0  182024.98        0.29  2011-01-01T00:00:00.000+01:00  Renovable\n",
       "1  265705.89        0.39  2011-01-02T00:00:00.000+01:00  Renovable\n",
       "2  249489.57        0.30  2011-01-03T00:00:00.000+01:00  Renovable\n",
       "3  270981.71        0.31  2011-01-04T00:00:00.000+01:00  Renovable\n",
       "4  379833.02        0.45  2011-01-05T00:00:00.000+01:00  Renovable"
      ]
     },
     "execution_count": 17,
     "metadata": {},
     "output_type": "execute_result"
    }
   ],
   "source": [
    "df_energias[\"value\"]=df_energias[\"value\"].round(2)\n",
    "df_energias[\"percentage\"]=df_energias[\"percentage\"].round(2)\n",
    "df_energias.head()"
   ]
  },
  {
   "cell_type": "code",
   "execution_count": 30,
   "metadata": {},
   "outputs": [
    {
     "data": {
      "text/html": [
       "<div>\n",
       "<style scoped>\n",
       "    .dataframe tbody tr th:only-of-type {\n",
       "        vertical-align: middle;\n",
       "    }\n",
       "\n",
       "    .dataframe tbody tr th {\n",
       "        vertical-align: top;\n",
       "    }\n",
       "\n",
       "    .dataframe thead th {\n",
       "        text-align: right;\n",
       "    }\n",
       "</style>\n",
       "<table border=\"1\" class=\"dataframe\">\n",
       "  <thead>\n",
       "    <tr style=\"text-align: right;\">\n",
       "      <th></th>\n",
       "      <th>value</th>\n",
       "      <th>percentage</th>\n",
       "      <th>datetime</th>\n",
       "      <th>tipo</th>\n",
       "      <th>fecha</th>\n",
       "    </tr>\n",
       "  </thead>\n",
       "  <tbody>\n",
       "    <tr>\n",
       "      <th>0</th>\n",
       "      <td>182024.98</td>\n",
       "      <td>0.29</td>\n",
       "      <td>2011-01-01T00:00:00.000+01:00</td>\n",
       "      <td>Renovable</td>\n",
       "      <td>2011-01-01</td>\n",
       "    </tr>\n",
       "    <tr>\n",
       "      <th>1</th>\n",
       "      <td>265705.89</td>\n",
       "      <td>0.39</td>\n",
       "      <td>2011-01-02T00:00:00.000+01:00</td>\n",
       "      <td>Renovable</td>\n",
       "      <td>2011-01-02</td>\n",
       "    </tr>\n",
       "    <tr>\n",
       "      <th>2</th>\n",
       "      <td>249489.57</td>\n",
       "      <td>0.30</td>\n",
       "      <td>2011-01-03T00:00:00.000+01:00</td>\n",
       "      <td>Renovable</td>\n",
       "      <td>2011-01-03</td>\n",
       "    </tr>\n",
       "    <tr>\n",
       "      <th>3</th>\n",
       "      <td>270981.71</td>\n",
       "      <td>0.31</td>\n",
       "      <td>2011-01-04T00:00:00.000+01:00</td>\n",
       "      <td>Renovable</td>\n",
       "      <td>2011-01-04</td>\n",
       "    </tr>\n",
       "    <tr>\n",
       "      <th>4</th>\n",
       "      <td>379833.02</td>\n",
       "      <td>0.45</td>\n",
       "      <td>2011-01-05T00:00:00.000+01:00</td>\n",
       "      <td>Renovable</td>\n",
       "      <td>2011-01-05</td>\n",
       "    </tr>\n",
       "  </tbody>\n",
       "</table>\n",
       "</div>"
      ],
      "text/plain": [
       "       value  percentage                       datetime       tipo      fecha\n",
       "0  182024.98        0.29  2011-01-01T00:00:00.000+01:00  Renovable 2011-01-01\n",
       "1  265705.89        0.39  2011-01-02T00:00:00.000+01:00  Renovable 2011-01-02\n",
       "2  249489.57        0.30  2011-01-03T00:00:00.000+01:00  Renovable 2011-01-03\n",
       "3  270981.71        0.31  2011-01-04T00:00:00.000+01:00  Renovable 2011-01-04\n",
       "4  379833.02        0.45  2011-01-05T00:00:00.000+01:00  Renovable 2011-01-05"
      ]
     },
     "execution_count": 30,
     "metadata": {},
     "output_type": "execute_result"
    }
   ],
   "source": [
    "df_energias[[\"fecha\",\"hora\"]]=df_energias.datetime.str.split(\"T\",expand = True)\n",
    "\n",
    "df_energias.drop([\"hora\"], axis = 1, inplace=True)\n",
    "df_energias[\"fecha\"]=df_energias[\"fecha\"].apply(pd.to_datetime)\n",
    "df_energias.head()"
   ]
  },
  {
   "attachments": {},
   "cell_type": "markdown",
   "metadata": {},
   "source": [
    "3. En el csv con la información de generación de energías renovables y no renovables a nivel de comunidad autónoma deberéis aplicar los mismos cambios que aplicamos en el ejercicio anterior.\n",
    "Guardar los resultados obtenidos en pickle que usaremos en próximos ejercicios de pair programming. Cada fichero debe ir en un pickle"
   ]
  },
  {
   "cell_type": "code",
   "execution_count": 31,
   "metadata": {},
   "outputs": [
    {
     "data": {
      "text/html": [
       "<div>\n",
       "<style scoped>\n",
       "    .dataframe tbody tr th:only-of-type {\n",
       "        vertical-align: middle;\n",
       "    }\n",
       "\n",
       "    .dataframe tbody tr th {\n",
       "        vertical-align: top;\n",
       "    }\n",
       "\n",
       "    .dataframe thead th {\n",
       "        text-align: right;\n",
       "    }\n",
       "</style>\n",
       "<table border=\"1\" class=\"dataframe\">\n",
       "  <thead>\n",
       "    <tr style=\"text-align: right;\">\n",
       "      <th></th>\n",
       "      <th>Comunidad</th>\n",
       "      <th>indice</th>\n",
       "      <th>Año</th>\n",
       "      <th>Total</th>\n",
       "    </tr>\n",
       "  </thead>\n",
       "  <tbody>\n",
       "    <tr>\n",
       "      <th>0</th>\n",
       "      <td>Ceuta</td>\n",
       "      <td>8744</td>\n",
       "      <td>2022</td>\n",
       "      <td>83.117</td>\n",
       "    </tr>\n",
       "    <tr>\n",
       "      <th>1</th>\n",
       "      <td>Ceuta</td>\n",
       "      <td>8744</td>\n",
       "      <td>2021</td>\n",
       "      <td>83.517</td>\n",
       "    </tr>\n",
       "    <tr>\n",
       "      <th>2</th>\n",
       "      <td>Ceuta</td>\n",
       "      <td>8744</td>\n",
       "      <td>2020</td>\n",
       "      <td>84.202</td>\n",
       "    </tr>\n",
       "    <tr>\n",
       "      <th>3</th>\n",
       "      <td>Ceuta</td>\n",
       "      <td>8744</td>\n",
       "      <td>2019</td>\n",
       "      <td>84.777</td>\n",
       "    </tr>\n",
       "    <tr>\n",
       "      <th>4</th>\n",
       "      <td>Ceuta</td>\n",
       "      <td>8744</td>\n",
       "      <td>2018</td>\n",
       "      <td>85.144</td>\n",
       "    </tr>\n",
       "  </tbody>\n",
       "</table>\n",
       "</div>"
      ],
      "text/plain": [
       "  Comunidad  indice   Año   Total\n",
       "0     Ceuta    8744  2022  83.117\n",
       "1     Ceuta    8744  2021  83.517\n",
       "2     Ceuta    8744  2020  84.202\n",
       "3     Ceuta    8744  2019  84.777\n",
       "4     Ceuta    8744  2018  85.144"
      ]
     },
     "execution_count": 31,
     "metadata": {},
     "output_type": "execute_result"
    }
   ],
   "source": [
    "df_ccaa.head()"
   ]
  },
  {
   "cell_type": "code",
   "execution_count": 36,
   "metadata": {},
   "outputs": [],
   "source": [
    "df_ccaa[\"Año\"]=df_ccaa[\"Año\"].apply(pd.to_datetime)\n"
   ]
  },
  {
   "cell_type": "code",
   "execution_count": 47,
   "metadata": {},
   "outputs": [],
   "source": [
    "df_ccaa.to_pickle(\"data/censo_ccaa.pickle\")\n",
    "df_energias.to_pickle(\"data/energias2.pickle\")"
   ]
  }
 ],
 "metadata": {
  "kernelspec": {
   "display_name": "base",
   "language": "python",
   "name": "python3"
  },
  "language_info": {
   "codemirror_mode": {
    "name": "ipython",
    "version": 3
   },
   "file_extension": ".py",
   "mimetype": "text/x-python",
   "name": "python",
   "nbconvert_exporter": "python",
   "pygments_lexer": "ipython3",
   "version": "3.11.0"
  },
  "orig_nbformat": 4
 },
 "nbformat": 4,
 "nbformat_minor": 2
}
