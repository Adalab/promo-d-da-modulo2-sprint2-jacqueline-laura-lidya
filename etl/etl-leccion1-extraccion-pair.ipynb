{
 "cells": [
  {
   "attachments": {},
   "cell_type": "markdown",
   "metadata": {},
   "source": [
    "# **Ejercicios de pair programming Módulo 2 Sprint 2**\n",
    "## **ETL: Lección 1**\n",
    "### **Extracción**"
   ]
  },
  {
   "attachments": {},
   "cell_type": "markdown",
   "metadata": {},
   "source": [
    "En el marco de un proyecto de análisis de datos, se requiere realizar una ETL para integrar información de distintas fuentes de datos. La empresa para la que trabajamos cuenta con una base de datos de la informacion sobre el número de personas censadas en las distintas Comunidades Autónomas españolas desde el año 1998 hasta el 2022. Quieren enriquecer los datos con información de la generación de energías renovables y no renovables y crear una base de datos más completa. Para esto nos piden que usemos la API de REData la cual nos da mucha información sobre el mercado energético en España. La documentación de la API la encontraréis "
   ]
  },
  {
   "attachments": {},
   "cell_type": "markdown",
   "metadata": {},
   "source": [
    "1. Nuestros jefes están especialmente interesados en los datos de generación de las energías renovables y no renovables a nivel nacional. En concreto, nos piden sacar toda la información para las fechas de 1 de Enero del 2011 hasta el 31 de Diciembre del 2022. De toda la información que tenemos de generación queremos la evolucion de renovable y no renovable. Además deberemos incluir una columna nueva identificando si el dato corresponde a energía renovable o no renovable. NOTA: nos piden que el código debe estar en una función. Al final deberemos tener un dataframe como el siguiente:"
   ]
  },
  {
   "cell_type": "code",
   "execution_count": 1,
   "metadata": {},
   "outputs": [],
   "source": [
    "from IPython.core.interactiveshell import InteractiveShell \n",
    "InteractiveShell.ast_node_interactivity = \"all\" \n",
    "\n",
    "import requests\n",
    "import pandas as pd\n",
    "import numpy as np"
   ]
  },
  {
   "cell_type": "code",
   "execution_count": 57,
   "metadata": {},
   "outputs": [],
   "source": [
    "df_completo = pd.DataFrame()\n",
    "for año in range(2011, 2023):\n",
    "\n",
    "    url = f\"https://apidatos.ree.es/es/datos/generacion/evolucion-renovable-no-renovable?start_date={año}-01-01T00:00&end_date={año}-12-31T23:59&time_trunc=day\"\n",
    "    response = requests.get(url=url)\n",
    "\n",
    "    fichero_json_renovable = response.json()[\"included\"][0][\"attributes\"][\"values\"] \n",
    "    fichero_json_no_renovable = response.json()[\"included\"][1][\"attributes\"][\"values\"]\n",
    "\n",
    "    df_renovables = pd.json_normalize(fichero_json_renovable)\n",
    "    df_no_renovables = pd.json_normalize(fichero_json_no_renovable)\n",
    "\n",
    "    df_renovables[\"tipo\"] = response.json()[\"included\"][0][\"type\"]\n",
    "    df_no_renovables[\"tipo\"] = response.json()[\"included\"][1][\"type\"]\n",
    "    \n",
    "    df_completo = pd.concat([df_completo, df_renovables, df_no_renovables], axis = 0)"
   ]
  },
  {
   "cell_type": "code",
   "execution_count": 58,
   "metadata": {},
   "outputs": [
    {
     "data": {
      "text/html": [
       "<div>\n",
       "<style scoped>\n",
       "    .dataframe tbody tr th:only-of-type {\n",
       "        vertical-align: middle;\n",
       "    }\n",
       "\n",
       "    .dataframe tbody tr th {\n",
       "        vertical-align: top;\n",
       "    }\n",
       "\n",
       "    .dataframe thead th {\n",
       "        text-align: right;\n",
       "    }\n",
       "</style>\n",
       "<table border=\"1\" class=\"dataframe\">\n",
       "  <thead>\n",
       "    <tr style=\"text-align: right;\">\n",
       "      <th></th>\n",
       "      <th>value</th>\n",
       "      <th>percentage</th>\n",
       "      <th>datetime</th>\n",
       "      <th>tipo</th>\n",
       "    </tr>\n",
       "  </thead>\n",
       "  <tbody>\n",
       "    <tr>\n",
       "      <th>194</th>\n",
       "      <td>623826.017</td>\n",
       "      <td>0.714902</td>\n",
       "      <td>2015-07-14T00:00:00.000+02:00</td>\n",
       "      <td>No renovable</td>\n",
       "    </tr>\n",
       "    <tr>\n",
       "      <th>167</th>\n",
       "      <td>236405.917</td>\n",
       "      <td>0.293429</td>\n",
       "      <td>2011-06-17T00:00:00.000+02:00</td>\n",
       "      <td>Renovable</td>\n",
       "    </tr>\n",
       "  </tbody>\n",
       "</table>\n",
       "</div>"
      ],
      "text/plain": [
       "          value  percentage                       datetime          tipo\n",
       "194  623826.017    0.714902  2015-07-14T00:00:00.000+02:00  No renovable\n",
       "167  236405.917    0.293429  2011-06-17T00:00:00.000+02:00     Renovable"
      ]
     },
     "execution_count": 58,
     "metadata": {},
     "output_type": "execute_result"
    }
   ],
   "source": [
    "df_completo.sample(2)"
   ]
  },
  {
   "cell_type": "code",
   "execution_count": 59,
   "metadata": {},
   "outputs": [],
   "source": [
    "df_completo.to_csv(\"energias.csv\")"
   ]
  },
  {
   "attachments": {},
   "cell_type": "markdown",
   "metadata": {},
   "source": [
    "2.  Sacaremos la misma información que en el ejericio anterior, pero en este caso por CCAA. Para esto necesitaremos los códigos de cada una de las comunidades autónomas que encontraréis en el siguiente diccionario:"
   ]
  },
  {
   "cell_type": "code",
   "execution_count": 11,
   "metadata": {},
   "outputs": [],
   "source": [
    "#Para este segundo ejercicio, en aras de la optimización, decidimos sacar la información por años.\n",
    "\n",
    "cod_comunidades = {'Ceuta': 8744,\n",
    "                    'Melilla': 8745,\n",
    "                    'Andalucía': 4,\n",
    "                    'Aragón': 5,\n",
    "                    'Cantabria': 6,\n",
    "                    'Castilla - La Mancha': 7,\n",
    "                    'Castilla y León': 8,\n",
    "                    'Cataluña': 9,\n",
    "                    'País Vasco': 10,\n",
    "                    'Principado de Asturias': 11,\n",
    "                    'Comunidad de Madrid': 13,\n",
    "                    'Comunidad Foral de Navarra': 14,\n",
    "                    'Comunitat Valenciana': 15,\n",
    "                    'Extremadura': 16,\n",
    "                    'Galicia': 17,\n",
    "                    'Illes Balears': 8743,\n",
    "                    'Canarias': 8742,\n",
    "                    'Región de Murcia': 21,\n",
    "                    'La Rioja': 20}"
   ]
  },
  {
   "cell_type": "code",
   "execution_count": 14,
   "metadata": {},
   "outputs": [],
   "source": [
    "df_completo_ccaa = pd.DataFrame()\n",
    "for año in range(2011, 2023):\n",
    "\n",
    "    for k, v in cod_comunidades.items():\n",
    "        \n",
    "        url = f\"https://apidatos.ree.es/es/datos/generacion/evolucion-renovable-no-renovable?start_date={año}-01-01T00:00&end_date={año}-12-31T23:59&time_trunc=year&geo_trunc=electric_system&geo_limit=ccaa&geo_ids={v}\"\n",
    "    \n",
    "        response2 = requests.get(url=url)\n",
    "\n",
    "        if len(response2.json()[\"included\"]) == 1:\n",
    "            fichero_json_no_renovable = response2.json()[\"included\"][0][\"attributes\"][\"values\"]    \n",
    "            df_no_renovables = pd.json_normalize(fichero_json_no_renovable)\n",
    "            df_no_renovables[\"tipo\"] = response2.json()[\"included\"][0][\"type\"]\n",
    "            df_no_renovables[\"comunidad\"] = k\n",
    "            df_no_renovables[\"id_comunidad\"] = v\n",
    "            df_completo_ccaa = pd.concat([df_completo_ccaa, df_no_renovables], axis = 0)\n",
    "            \n",
    "        elif len(response2.json()[\"included\"]) == 2:\n",
    "            fichero_json_renovable = response2.json()[\"included\"][0][\"attributes\"][\"values\"] \n",
    "            fichero_json_no_renovable = response2.json()[\"included\"][1][\"attributes\"][\"values\"]\n",
    "            df_renovables = pd.json_normalize(fichero_json_renovable)\n",
    "            df_no_renovables = pd.json_normalize(fichero_json_no_renovable)\n",
    "            df_renovables[\"tipo\"] = response2.json()[\"included\"][0][\"type\"]\n",
    "            df_no_renovables[\"tipo\"] = response2.json()[\"included\"][1][\"type\"]\n",
    "            df_no_renovables[\"comunidad\"] = k\n",
    "            df_no_renovables[\"id_comunidad\"] = v\n",
    "            df_renovables[\"comunidad\"] = k\n",
    "            df_renovables[\"id_comunidad\"] = v\n",
    "            df_completo_ccaa = pd.concat([df_completo_ccaa, df_no_renovables,df_renovables], axis = 0)\n",
    "        else: \n",
    "            print(\"algo no ha salido bien\")\n",
    "            \n",
    "\n",
    "    \n"
   ]
  },
  {
   "cell_type": "code",
   "execution_count": 15,
   "metadata": {},
   "outputs": [
    {
     "data": {
      "text/html": [
       "<div>\n",
       "<style scoped>\n",
       "    .dataframe tbody tr th:only-of-type {\n",
       "        vertical-align: middle;\n",
       "    }\n",
       "\n",
       "    .dataframe tbody tr th {\n",
       "        vertical-align: top;\n",
       "    }\n",
       "\n",
       "    .dataframe thead th {\n",
       "        text-align: right;\n",
       "    }\n",
       "</style>\n",
       "<table border=\"1\" class=\"dataframe\">\n",
       "  <thead>\n",
       "    <tr style=\"text-align: right;\">\n",
       "      <th></th>\n",
       "      <th>value</th>\n",
       "      <th>percentage</th>\n",
       "      <th>datetime</th>\n",
       "      <th>tipo</th>\n",
       "      <th>comunidad</th>\n",
       "      <th>id_comunidad</th>\n",
       "    </tr>\n",
       "  </thead>\n",
       "  <tbody>\n",
       "    <tr>\n",
       "      <th>0</th>\n",
       "      <td>202972.8930</td>\n",
       "      <td>1.000000</td>\n",
       "      <td>2011-01-01T00:00:00.000+01:00</td>\n",
       "      <td>No renovable</td>\n",
       "      <td>Ceuta</td>\n",
       "      <td>8744</td>\n",
       "    </tr>\n",
       "    <tr>\n",
       "      <th>0</th>\n",
       "      <td>211290.0435</td>\n",
       "      <td>0.983297</td>\n",
       "      <td>2011-01-01T00:00:00.000+01:00</td>\n",
       "      <td>No renovable</td>\n",
       "      <td>Melilla</td>\n",
       "      <td>8745</td>\n",
       "    </tr>\n",
       "    <tr>\n",
       "      <th>0</th>\n",
       "      <td>3589.0825</td>\n",
       "      <td>0.016703</td>\n",
       "      <td>2011-01-01T00:00:00.000+01:00</td>\n",
       "      <td>Renovable</td>\n",
       "      <td>Melilla</td>\n",
       "      <td>8745</td>\n",
       "    </tr>\n",
       "  </tbody>\n",
       "</table>\n",
       "</div>"
      ],
      "text/plain": [
       "         value  percentage                       datetime          tipo  \\\n",
       "0  202972.8930    1.000000  2011-01-01T00:00:00.000+01:00  No renovable   \n",
       "0  211290.0435    0.983297  2011-01-01T00:00:00.000+01:00  No renovable   \n",
       "0    3589.0825    0.016703  2011-01-01T00:00:00.000+01:00     Renovable   \n",
       "\n",
       "  comunidad  id_comunidad  \n",
       "0     Ceuta          8744  \n",
       "0   Melilla          8745  \n",
       "0   Melilla          8745  "
      ]
     },
     "execution_count": 15,
     "metadata": {},
     "output_type": "execute_result"
    }
   ],
   "source": [
    "df_completo_ccaa.head(3)"
   ]
  }
 ],
 "metadata": {
  "kernelspec": {
   "display_name": "base",
   "language": "python",
   "name": "python3"
  },
  "language_info": {
   "codemirror_mode": {
    "name": "ipython",
    "version": 3
   },
   "file_extension": ".py",
   "mimetype": "text/x-python",
   "name": "python",
   "nbconvert_exporter": "python",
   "pygments_lexer": "ipython3",
   "version": "3.9.7"
  },
  "orig_nbformat": 4
 },
 "nbformat": 4,
 "nbformat_minor": 2
}
