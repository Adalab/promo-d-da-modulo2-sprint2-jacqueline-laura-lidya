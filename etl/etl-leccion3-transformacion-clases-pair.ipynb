{
 "cells": [
  {
   "attachments": {},
   "cell_type": "markdown",
   "metadata": {},
   "source": [
    "# **Ejercicios de pair programming Módulo 2 Sprint 2**\n",
    "## **ETL: Lección 3**\n",
    "### **Transformación: Clases y funciones de limpieza**\n",
    "\n",
    "---"
   ]
  },
  {
   "attachments": {},
   "cell_type": "markdown",
   "metadata": {},
   "source": [
    "En la lección de hoy aprendimos como crearnos una clase que nos permita limpiar los datos obtenidos de la API.\n",
    "\n",
    "En este ejercicio, tendréis que crear una clase con el código que usamos en los ejercicios de pair programming de ETL Transformación I y II."
   ]
  },
  {
   "cell_type": "markdown",
   "metadata": {},
   "source": []
  },
  {
   "cell_type": "code",
   "execution_count": 2,
   "metadata": {},
   "outputs": [],
   "source": [
    "from IPython.core.interactiveshell import InteractiveShell \n",
    "InteractiveShell.ast_node_interactivity = \"all\" \n",
    "\n",
    "import requests\n",
    "import pandas as pd\n",
    "import numpy as np"
   ]
  },
  {
   "cell_type": "code",
   "execution_count": null,
   "metadata": {},
   "outputs": [],
   "source": []
  },
  {
   "cell_type": "code",
   "execution_count": 3,
   "metadata": {},
   "outputs": [],
   "source": [
    "cod_comunidades = {'Ceuta': 8744,\n",
    "                    'Melilla': 8745,\n",
    "                    'Andalucía': 4,\n",
    "                    'Aragón': 5,\n",
    "                    'Cantabria': 6,\n",
    "                    'Castilla - La Mancha': 7,\n",
    "                    'Castilla y León': 8,\n",
    "                    'Cataluña': 9,\n",
    "                    'País Vasco': 10,\n",
    "                    'Principado de Asturias': 11,\n",
    "                    'Comunidad de Madrid': 13,\n",
    "                    'Comunidad Foral de Navarra': 14,\n",
    "                    'Comunitat Valenciana': 15,\n",
    "                    'Extremadura': 16,\n",
    "                    'Galicia': 17,\n",
    "                    'Illes Balears': 8743,\n",
    "                    'Canarias': 8742,\n",
    "                    'Región de Murcia': 21,\n",
    "                    'La Rioja': 20}"
   ]
  },
  {
   "cell_type": "code",
   "execution_count": 4,
   "metadata": {},
   "outputs": [],
   "source": [
    "df_censo_ccaa = pd.read_csv(\"data/poblacion_comunidades.csv\", index_col = 0)"
   ]
  },
  {
   "cell_type": "code",
   "execution_count": 5,
   "metadata": {},
   "outputs": [],
   "source": [
    "class Extraccion:\n",
    "    \n",
    "    def __innit__(self, año_inicio, año_final):\n",
    "        \n",
    "        self.año_inicio\n",
    "        self.año_final\n",
    "        \n",
    "    def nacional(self, año_inicio, año_final):  \n",
    "        df_energia_nacional = pd.DataFrame()\n",
    "        for año in range(self.año_inicio, self.año_final):\n",
    "\n",
    "            url = f\"https://apidatos.ree.es/es/datos/generacion/evolucion-renovable-no-renovable?start_date={año}-01-01T00:00&end_date={año}-12-31T23:59&time_trunc=year\"\n",
    "            response = requests.get(url=url)\n",
    "\n",
    "            fichero_json_renovable = response.json()[\"included\"][0][\"attributes\"][\"values\"] \n",
    "            fichero_json_no_renovable = response.json()[\"included\"][1][\"attributes\"][\"values\"]\n",
    "\n",
    "            df_renovables = pd.json_normalize(fichero_json_renovable)\n",
    "            df_no_renovables = pd.json_normalize(fichero_json_no_renovable)\n",
    "\n",
    "            df_renovables[\"tipo\"] = response.json()[\"included\"][0][\"type\"]\n",
    "            df_no_renovables[\"tipo\"] = response.json()[\"included\"][1][\"type\"]\n",
    "            \n",
    "            df_energia_nacional = pd.concat([df_energia_nacional, df_renovables, df_no_renovables], axis = 0)\n",
    "            \n",
    "        return df_energia_nacional\n",
    "    \n",
    "    \n",
    "    def df_completo_ccaa(self, año_inicio, año_final, cod_comunidades):  \n",
    "        \n",
    "        self.cod_comunidades = cod_comunidades\n",
    "        \n",
    "        df_completo_ccaa = pd.DataFrame()\n",
    "        for año in range(self.año_inicio, self.año_final):\n",
    "\n",
    "            for k, v in cod_comunidades.items():\n",
    "                \n",
    "                url = f\"https://apidatos.ree.es/es/datos/generacion/evolucion-renovable-no-renovable?start_date={año}-01-01T00:00&end_date={año}-12-31T23:59&time_trunc=year&geo_trunc=electric_system&geo_limit=ccaa&geo_ids={v}\"\n",
    "            \n",
    "                response2 = requests.get(url=url)\n",
    "\n",
    "                fichero_json_no_renovable = response2.json()[\"included\"][0][\"attributes\"][\"values\"] \n",
    "                \n",
    "                df_no_renovables = pd.json_normalize(fichero_json_no_renovable)\n",
    "            \n",
    "                df_no_renovables[\"tipo\"] = response2.json()[\"included\"][0][\"type\"]\n",
    "\n",
    "                df_no_renovables[\"comunidad\"] = k\n",
    "\n",
    "                df_no_renovables[\"id_comunidad\"] = v\n",
    "\n",
    "            \n",
    "                df_completo_ccaa = pd.concat([df_completo_ccaa, df_no_renovables], axis = 0)\n",
    "     \n",
    "        return df_completo_ccaa\n",
    "        \n",
    "    def limpieza_censo(self, df):\n",
    "        \n",
    "        \n",
    "        df.drop([\"Comunidades_y_Ciudades_Autónomas\"], axis =1, inplace = True)\n",
    "        df[\"Año\"]= df[\"Año\"].apply(pd.to_datetime)\n",
    "        \n",
    "        return df\n",
    "        \n",
    "    \n",
    "    def limpieza_energias(self, df_energias):\n",
    "        \n",
    "        df_energias[\"value\"]=df_energias[\"value\"].round(2)\n",
    "        df_energias[\"percentage\"]=df_energias[\"percentage\"].round(2)\n",
    "        df_energias[[\"fecha\",\"hora\"]]=df_energias.datetime.str.split(\"T\",expand = True)\n",
    "        df_energias.drop([\"hora\"], axis = 1, inplace=True)\n",
    "        df_energias[\"fecha\"]=df_energias[\"fecha\"].apply(pd.to_datetime)\n",
    "        \n",
    "        return df_energias\n",
    "       \n",
    "        \n",
    "        "
   ]
  },
  {
   "cell_type": "code",
   "execution_count": null,
   "metadata": {},
   "outputs": [],
   "source": []
  }
 ],
 "metadata": {
  "kernelspec": {
   "display_name": "Python 3",
   "language": "python",
   "name": "python3"
  },
  "language_info": {
   "codemirror_mode": {
    "name": "ipython",
    "version": 3
   },
   "file_extension": ".py",
   "mimetype": "text/x-python",
   "name": "python",
   "nbconvert_exporter": "python",
   "pygments_lexer": "ipython3",
   "version": "3.11.0"
  },
  "orig_nbformat": 4
 },
 "nbformat": 4,
 "nbformat_minor": 2
}
