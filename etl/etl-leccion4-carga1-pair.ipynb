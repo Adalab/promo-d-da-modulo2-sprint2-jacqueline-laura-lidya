{
 "cells": [
  {
   "attachments": {},
   "cell_type": "markdown",
   "metadata": {},
   "source": [
    "# **Ejercicios de pair programming Módulo 2 Sprint 2**\n",
    "## **ETL: Lección 4**\n",
    "### **Carga I**"
   ]
  },
  {
   "cell_type": "code",
   "execution_count": 2,
   "metadata": {},
   "outputs": [],
   "source": [
    "import pandas as pd\n",
    "import requests\n",
    "from datetime import datetime, timedelta\n",
    "import mysql.connector"
   ]
  },
  {
   "attachments": {},
   "cell_type": "markdown",
   "metadata": {},
   "source": [
    "Es el momento de meter todos nuestros datos en SQL 💪🏽!!! En este ejercicio nos crearemos dos tablas en una BBDD creada por nosotras.\n",
    "\n",
    "- 📌 Nota Todo lo tendremos que hacer desde jupyter notebook\n",
    "\n",
    "\n",
    "1. Cread la BBDD con el nombre de energía. La BBDD tendrá la siguiente forma:\n",
    "2. Cread las tablas de la BBDD:\n",
    "- Tabla fechas\n",
    "- Tabla nacional_renovable_no_renovable\n",
    "- Tabla comunidades_renovable_no_renovable\n",
    "- Tabla comunidades\n"
   ]
  },
  {
   "cell_type": "code",
   "execution_count": 3,
   "metadata": {},
   "outputs": [],
   "source": [
    "def crear_bbdd(nombre_bbdd):\n",
    "\n",
    "    mydb = mysql.connector.connect(\n",
    "      host=\"localhost\",\n",
    "      user=\"root\",\n",
    "      password=\"AlumnaAdalab\" # aquí tendréis que poner vuestra contraseña de MySQL\n",
    "    )\n",
    "    print(\"Conexión realizada con éxito\")\n",
    "    \n",
    "    mycursor = mydb.cursor()\n",
    "\n",
    "    try:\n",
    "        mycursor.execute(f\"CREATE DATABASE IF NOT EXISTS {nombre_bbdd};\")\n",
    "        print(mycursor)\n",
    "    except mysql.connector.Error as err:\n",
    "        print(err)\n",
    "        print(\"Error Code:\", err.errno)\n",
    "        print(\"SQLSTATE\", err.sqlstate)\n",
    "        print(\"Message\", err.msg)\n"
   ]
  },
  {
   "cell_type": "code",
   "execution_count": 4,
   "metadata": {},
   "outputs": [],
   "source": [
    "def crear_insertar_tabla(nombre_bbdd, contraseña, query):\n",
    "    \n",
    "    # nos conectamsos con el servidor usando el conector de sql\n",
    "    cnx = mysql.connector.connect(user='root', password=f\"{contraseña}\",\n",
    "                                     host='127.0.0.1', database=f\"{nombre_bbdd}\")\n",
    "    # iniciamos el cursor\n",
    "    mycursor = cnx.cursor()\n",
    "    \n",
    "    # intentamos hacer la query\n",
    "    try: \n",
    "        mycursor.execute(query)\n",
    "        cnx.commit() \n",
    "    # en caso de que podamos ejecutar la query devuelvenos un error para saber en que nos estamos equivocando\n",
    "    except mysql.connector.Error as err:\n",
    "        print(err)\n",
    "        print(\"Error Code:\", err.errno)\n",
    "        print(\"SQLSTATE\", err.sqlstate)\n",
    "        print(\"Message\", err.msg)\n"
   ]
  },
  {
   "cell_type": "code",
   "execution_count": 5,
   "metadata": {},
   "outputs": [],
   "source": [
    "nombre_bbdd = \"energia\""
   ]
  },
  {
   "cell_type": "code",
   "execution_count": 6,
   "metadata": {},
   "outputs": [],
   "source": [
    "tabla_fechas = \"\"\"\n",
    "CREATE TABLE IF NOT EXISTS `energia`.`fechas` (\n",
    "  `idfechas` INT NOT NULL,\n",
    "  `fecha` DATE NULL,\n",
    "  PRIMARY KEY (`idfechas`))\n",
    "ENGINE = InnoDB;\"\"\"\n"
   ]
  },
  {
   "cell_type": "code",
   "execution_count": 7,
   "metadata": {},
   "outputs": [],
   "source": [
    "tabla_comunidades = \"\"\"\n",
    "\n",
    "CREATE TABLE IF NOT EXISTS `energia`.`comunidades` (\n",
    "  `idcomunidades` INT NOT NULL,\n",
    "  `comunidad` VARCHAR(45) NULL,\n",
    "  PRIMARY KEY (`idcomunidades`))\n",
    "ENGINE = InnoDB; \"\"\"\n"
   ]
  },
  {
   "cell_type": "code",
   "execution_count": 8,
   "metadata": {},
   "outputs": [],
   "source": [
    "tabla_energia_nacional = \"\"\"\n",
    "\n",
    "CREATE TABLE IF NOT EXISTS `energia`.`nacional_renovable_no_renovable` (\n",
    "  `idnacional_renovable_no_renovable` INT NOT NULL,\n",
    "  `porcentaje` INT NULL,\n",
    "  `tipo_energia` VARCHAR(45) NULL,\n",
    "  `valor` DECIMAL NULL,\n",
    "  `fechas_idfechas` INT NOT NULL,\n",
    "  PRIMARY KEY (`idnacional_renovable_no_renovable`),\n",
    "  INDEX `fk_nacional_renovable_no_renovable_fechas_idx` (`fechas_idfechas` ASC) VISIBLE,\n",
    "  CONSTRAINT `fk_nacional_renovable_no_renovable_fechas`\n",
    "    FOREIGN KEY (`fechas_idfechas`)\n",
    "    REFERENCES `energia`.`fechas` (`idfechas`)\n",
    "    ON DELETE NO ACTION\n",
    "    ON UPDATE NO ACTION)\n",
    "ENGINE = InnoDB;\"\"\"\n"
   ]
  },
  {
   "cell_type": "code",
   "execution_count": 9,
   "metadata": {},
   "outputs": [],
   "source": [
    "\n",
    "tabla_energia_comunidades = \"\"\"\n",
    "CREATE TABLE IF NOT EXISTS `energia`.`comunidades_renovables_no_renovables` (\n",
    "  `idcomunidades_renovables_no_renovables` INT NOT NULL,\n",
    "  `porcentaje` INT NULL,\n",
    "  `tipo_energia` VARCHAR(45) NULL,\n",
    "  `valor` DECIMAL NULL,\n",
    "  `fechas_idfechas` INT NOT NULL,\n",
    "  `comunidades_idcomunidades` INT NOT NULL,\n",
    "  PRIMARY KEY (`idcomunidades_renovables_no_renovables`),\n",
    "  INDEX `fk_comunidades_renovables_no_renovables_fechas1_idx` (`fechas_idfechas` ASC) VISIBLE,\n",
    "  INDEX `fk_comunidades_renovables_no_renovables_comunidades1_idx` (`comunidades_idcomunidades` ASC) VISIBLE,\n",
    "  CONSTRAINT `fk_comunidades_renovables_no_renovables_fechas1`\n",
    "    FOREIGN KEY (`fechas_idfechas`)\n",
    "    REFERENCES `energia`.`fechas` (`idfechas`)\n",
    "    ON DELETE NO ACTION\n",
    "    ON UPDATE NO ACTION,\n",
    "  CONSTRAINT `fk_comunidades_renovables_no_renovables_comunidades1`\n",
    "    FOREIGN KEY (`comunidades_idcomunidades`)\n",
    "    REFERENCES `energia`.`comunidades` (`idcomunidades`)\n",
    "    ON DELETE NO ACTION\n",
    "    ON UPDATE NO ACTION)\n",
    "ENGINE = InnoDB;\n",
    " \"\"\"\n"
   ]
  },
  {
   "cell_type": "code",
   "execution_count": 10,
   "metadata": {},
   "outputs": [
    {
     "name": "stdout",
     "output_type": "stream",
     "text": [
      "Conexión realizada con éxito\n",
      "MySQLCursor: CREATE DATABASE IF NOT EXISTS energia;\n"
     ]
    }
   ],
   "source": [
    "crear_bbdd(nombre_bbdd)"
   ]
  },
  {
   "cell_type": "code",
   "execution_count": 11,
   "metadata": {},
   "outputs": [],
   "source": [
    "crear_insertar_tabla(nombre_bbdd, \"AlumnaAdalab\", tabla_energia_nacional)\n",
    "crear_insertar_tabla(nombre_bbdd, \"AlumnaAdalab\", tabla_energia_comunidades)\n",
    "crear_insertar_tabla(nombre_bbdd, \"AlumnaAdalab\", tabla_comunidades)\n",
    "crear_insertar_tabla(nombre_bbdd, \"AlumnaAdalab\", tabla_fechas)"
   ]
  },
  {
   "attachments": {},
   "cell_type": "markdown",
   "metadata": {},
   "source": [
    "\n",
    "- BONUS Insertar los datos en las tablas.\n",
    "\n",
    "\n",
    "📌 Nota Esta parte del pair es optativa y no será considerada para la evaluación"
   ]
  },
  {
   "cell_type": "code",
   "execution_count": 14,
   "metadata": {},
   "outputs": [],
   "source": [
    "# Cargamos los datos de la clase anterior para insertarlos:\n",
    "\n",
    "df_nacional = pd.read_csv(\"data/energia_nacional.csv\", index_col = 0)\n",
    "df_ccaa = pd.read_csv(\"data/energia_ccaa.csv\", index_col = 0)\n",
    "df_censo_ccaa = pd.read_csv(\"data/censo_ccaa.csv\", index_col = 0)"
   ]
  }
 ],
 "metadata": {
  "kernelspec": {
   "display_name": "Python 3",
   "language": "python",
   "name": "python3"
  },
  "language_info": {
   "codemirror_mode": {
    "name": "ipython",
    "version": 3
   },
   "file_extension": ".py",
   "mimetype": "text/x-python",
   "name": "python",
   "nbconvert_exporter": "python",
   "pygments_lexer": "ipython3",
   "version": "3.10.11"
  },
  "orig_nbformat": 4
 },
 "nbformat": 4,
 "nbformat_minor": 2
}
