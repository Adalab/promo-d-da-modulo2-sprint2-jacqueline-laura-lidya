{
 "cells": [
  {
   "cell_type": "markdown",
   "metadata": {},
   "source": [
    "# **Ejercicios de pair programming Módulo 2 Sprint 2**\n",
    "## **ETL: Lección 5**\n",
    "### **Carga II**"
   ]
  },
  {
   "attachments": {},
   "cell_type": "markdown",
   "metadata": {},
   "source": [
    "En la lección de hoy aprendimos como podemos crear un ejecutable. En este contexto, el objetivo del ejercicio de hoy es que creeis un ejecutable con todo el código que hemos ido creando durante las otras sesiones de pair programming ETL.\n",
    "\n",
    "Al final, debereis tener un archivo .py que lo ejecutemos en la terminal y nos actualice los datos, los limpie y nos los meta en SQL.\n",
    "\n",
    "`En esta misma carpeta podéis encontrar nuestros archivos \"main.py\" y \"soporte.py\" con todo nuestro código.`"
   ]
  }
 ],
 "metadata": {
  "language_info": {
   "name": "python"
  },
  "orig_nbformat": 4
 },
 "nbformat": 4,
 "nbformat_minor": 2
}
