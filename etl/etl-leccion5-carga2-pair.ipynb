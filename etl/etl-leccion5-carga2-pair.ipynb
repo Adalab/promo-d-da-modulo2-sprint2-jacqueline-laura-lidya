{
 "cells": [
  {
   "attachments": {},
   "cell_type": "markdown",
   "metadata": {},
   "source": [
    "# **Ejercicios de pair programming Módulo 2 Sprint 2**\n",
    "## **ETL: Lección 5**\n",
    "### **Carga II**"
   ]
  },
  {
   "attachments": {},
   "cell_type": "markdown",
   "metadata": {},
   "source": [
    "Igual que en el ejercicio de pair programming de ETL Transformación II, tendréis que crear una clase que nos permita cargar los datos en SQL I."
   ]
  },
  {
   "cell_type": "code",
   "execution_count": 2,
   "metadata": {},
   "outputs": [],
   "source": [
    "import pandas as pd\n",
    "import requests\n",
    "from datetime import datetime, timedelta\n",
    "import mysql.connector"
   ]
  },
  {
   "attachments": {},
   "cell_type": "markdown",
   "metadata": {},
   "source": [
    "### **Definición de las variables**"
   ]
  },
  {
   "cell_type": "code",
   "execution_count": 3,
   "metadata": {},
   "outputs": [],
   "source": [
    "tabla_fechas = \"\"\"\n",
    "CREATE TABLE IF NOT EXISTS `energia`.`fechas` (\n",
    "  `idfechas` INT NOT NULL,\n",
    "  `fecha` DATE NULL,\n",
    "  PRIMARY KEY (`idfechas`))\n",
    "ENGINE = InnoDB;\"\"\"\n"
   ]
  },
  {
   "cell_type": "code",
   "execution_count": 4,
   "metadata": {},
   "outputs": [],
   "source": [
    "tabla_comunidades = \"\"\"\n",
    "\n",
    "CREATE TABLE IF NOT EXISTS `energia`.`comunidades` (\n",
    "  `idcomunidades` INT NOT NULL,\n",
    "  `comunidad` VARCHAR(45) NULL,\n",
    "  PRIMARY KEY (`idcomunidades`))\n",
    "ENGINE = InnoDB; \"\"\"\n"
   ]
  },
  {
   "cell_type": "code",
   "execution_count": 5,
   "metadata": {},
   "outputs": [],
   "source": [
    "tabla_energia_nacional = \"\"\"\n",
    "\n",
    "CREATE TABLE IF NOT EXISTS `energia`.`nacional_renovable_no_renovable` (\n",
    "  `idnacional_renovable_no_renovable` INT NOT NULL,\n",
    "  `porcentaje` INT NULL,\n",
    "  `tipo_energia` VARCHAR(45) NULL,\n",
    "  `valor` DECIMAL NULL,\n",
    "  `fechas_idfechas` INT NOT NULL,\n",
    "  PRIMARY KEY (`idnacional_renovable_no_renovable`),\n",
    "  INDEX `fk_nacional_renovable_no_renovable_fechas_idx` (`fechas_idfechas` ASC) VISIBLE,\n",
    "  CONSTRAINT `fk_nacional_renovable_no_renovable_fechas`\n",
    "    FOREIGN KEY (`fechas_idfechas`)\n",
    "    REFERENCES `energia`.`fechas` (`idfechas`)\n",
    "    ON DELETE NO ACTION\n",
    "    ON UPDATE NO ACTION)\n",
    "ENGINE = InnoDB;\"\"\"\n"
   ]
  },
  {
   "cell_type": "code",
   "execution_count": 6,
   "metadata": {},
   "outputs": [],
   "source": [
    "\n",
    "tabla_energia_comunidades = \"\"\"\n",
    "CREATE TABLE IF NOT EXISTS `energia`.`comunidades_renovables_no_renovables` (\n",
    "  `idcomunidades_renovables_no_renovables` INT NOT NULL,\n",
    "  `porcentaje` INT NULL,\n",
    "  `tipo_energia` VARCHAR(45) NULL,\n",
    "  `valor` DECIMAL NULL,\n",
    "  `fechas_idfechas` INT NOT NULL,\n",
    "  `comunidades_idcomunidades` INT NOT NULL,\n",
    "  PRIMARY KEY (`idcomunidades_renovables_no_renovables`),\n",
    "  INDEX `fk_comunidades_renovables_no_renovables_fechas1_idx` (`fechas_idfechas` ASC) VISIBLE,\n",
    "  INDEX `fk_comunidades_renovables_no_renovables_comunidades1_idx` (`comunidades_idcomunidades` ASC) VISIBLE,\n",
    "  CONSTRAINT `fk_comunidades_renovables_no_renovables_fechas1`\n",
    "    FOREIGN KEY (`fechas_idfechas`)\n",
    "    REFERENCES `energia`.`fechas` (`idfechas`)\n",
    "    ON DELETE NO ACTION\n",
    "    ON UPDATE NO ACTION,\n",
    "  CONSTRAINT `fk_comunidades_renovables_no_renovables_comunidades1`\n",
    "    FOREIGN KEY (`comunidades_idcomunidades`)\n",
    "    REFERENCES `energia`.`comunidades` (`idcomunidades`)\n",
    "    ON DELETE NO ACTION\n",
    "    ON UPDATE NO ACTION)\n",
    "ENGINE = InnoDB;\n",
    " \"\"\"\n"
   ]
  },
  {
   "attachments": {},
   "cell_type": "markdown",
   "metadata": {},
   "source": [
    "### **Creación de la clase**"
   ]
  },
  {
   "cell_type": "code",
   "execution_count": 7,
   "metadata": {},
   "outputs": [],
   "source": [
    "class CrearBBDD:\n",
    "\n",
    "    def __init__(self, nombre_bbdd, contraseña):\n",
    "\n",
    "        self.nombre_bbdd = nombre_bbdd\n",
    "        self.contraseña = contraseña\n",
    "    \n",
    "    def creacion_bbdd(self):\n",
    "\n",
    "        mydb = mysql.connector.connect(host=\"localhost\",\n",
    "                                       user=\"root\",\n",
    "                                       password=f'{self.contraseña}') \n",
    "        mycursor = mydb.cursor()\n",
    "        print(\"Conexión realizada satisfactoriamente.\")\n",
    "\n",
    "        try:\n",
    "            mycursor.execute(f\"CREATE DATABASE IF NOT EXISTS {self.nombre_bbdd};\")\n",
    "            \n",
    "        except:\n",
    "            print(\"La BBDD ya existe.\")\n",
    "\n",
    "    def creacion_insercion_tabla(self, query):\n",
    "        \n",
    "        mydb = mysql.connector.connect(host=\"localhost\",\n",
    "                                       user=\"root\",\n",
    "                                       password=f'{self.contraseña}', \n",
    "                                       database=f\"{self.nombre_bbdd}\") \n",
    "        mycursor = mydb.cursor()\n",
    "        \n",
    "        try:\n",
    "            mycursor.execute(query)\n",
    "            mydb.commit()\n",
    "          \n",
    "        except mysql.connector.Error as err:\n",
    "            print(err)\n",
    "            print(\"Error Code:\", err.errno)\n",
    "            print(\"SQLSTATE\", err.sqlstate)\n",
    "            print(\"Message\", err.msg)\n",
    "\n",
    "    "
   ]
  },
  {
   "attachments": {},
   "cell_type": "markdown",
   "metadata": {},
   "source": [
    "### **Llamada a la clase**"
   ]
  },
  {
   "cell_type": "code",
   "execution_count": 9,
   "metadata": {},
   "outputs": [],
   "source": [
    "bbdd = CrearBBDD(\"energia\", \"AlumnaAdalab\")"
   ]
  },
  {
   "cell_type": "code",
   "execution_count": 10,
   "metadata": {},
   "outputs": [
    {
     "data": {
      "text/plain": [
       "<__main__.CrearBBDD at 0x1aeb0407d60>"
      ]
     },
     "execution_count": 10,
     "metadata": {},
     "output_type": "execute_result"
    }
   ],
   "source": [
    "bbdd"
   ]
  },
  {
   "cell_type": "code",
   "execution_count": 12,
   "metadata": {},
   "outputs": [
    {
     "name": "stdout",
     "output_type": "stream",
     "text": [
      "Conexión realizada satisfactoriamente.\n"
     ]
    }
   ],
   "source": [
    "bbdd.creacion_bbdd()"
   ]
  },
  {
   "cell_type": "code",
   "execution_count": 13,
   "metadata": {},
   "outputs": [],
   "source": [
    "bbdd.creacion_insercion_tabla(tabla_comunidades)\n",
    "bbdd.creacion_insercion_tabla(tabla_fechas)\n",
    "bbdd.creacion_insercion_tabla(tabla_energia_comunidades)\n",
    "bbdd.creacion_insercion_tabla(tabla_energia_nacional)"
   ]
  }
 ],
 "metadata": {
  "kernelspec": {
   "display_name": "base",
   "language": "python",
   "name": "python3"
  },
  "language_info": {
   "codemirror_mode": {
    "name": "ipython",
    "version": 3
   },
   "file_extension": ".py",
   "mimetype": "text/x-python",
   "name": "python",
   "nbconvert_exporter": "python",
   "pygments_lexer": "ipython3",
   "version": "3.10.11"
  },
  "orig_nbformat": 4
 },
 "nbformat": 4,
 "nbformat_minor": 2
}
