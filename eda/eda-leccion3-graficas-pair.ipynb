{
 "cells": [
  {
   "attachments": {},
   "cell_type": "markdown",
   "metadata": {},
   "source": [
    "# **Ejercicios de pair programming Módulo 2**\n",
    "## **EDA: Lección III**\n",
    "### **Análisis exploratorio gráfico**\n",
    "\n",
    "---"
   ]
  },
  {
   "cell_type": "code",
   "execution_count": 1,
   "metadata": {},
   "outputs": [],
   "source": [
    "# importamos las librerías \n",
    "\n",
    "import pandas as pd\n",
    "import seaborn as sns\n",
    "import matplotlib.pyplot as plt\n",
    "\n"
   ]
  },
  {
   "cell_type": "code",
   "execution_count": 2,
   "metadata": {},
   "outputs": [],
   "source": [
    "#abrimos el fichero\n",
    "\n",
    "\n",
    "df_tickets = pd.read_csv(\"data/historico_tickets_limpio.csv\", index_col = 0)\n",
    "pd.options.display.max_columns = None"
   ]
  },
  {
   "cell_type": "code",
   "execution_count": 3,
   "metadata": {},
   "outputs": [
    {
     "data": {
      "text/html": [
       "<div>\n",
       "<style scoped>\n",
       "    .dataframe tbody tr th:only-of-type {\n",
       "        vertical-align: middle;\n",
       "    }\n",
       "\n",
       "    .dataframe tbody tr th {\n",
       "        vertical-align: top;\n",
       "    }\n",
       "\n",
       "    .dataframe thead th {\n",
       "        text-align: right;\n",
       "    }\n",
       "</style>\n",
       "<table border=\"1\" class=\"dataframe\">\n",
       "  <thead>\n",
       "    <tr style=\"text-align: right;\">\n",
       "      <th></th>\n",
       "      <th>id_ticket</th>\n",
       "      <th>fecha</th>\n",
       "      <th>id_empleado</th>\n",
       "      <th>id_agente</th>\n",
       "      <th>categoría</th>\n",
       "      <th>tipo</th>\n",
       "      <th>severidad</th>\n",
       "      <th>prioridad</th>\n",
       "      <th>días_resolución</th>\n",
       "      <th>satisfacción</th>\n",
       "      <th>semestre</th>\n",
       "      <th>año</th>\n",
       "      <th>mes</th>\n",
       "    </tr>\n",
       "  </thead>\n",
       "  <tbody>\n",
       "    <tr>\n",
       "      <th>0</th>\n",
       "      <td>GDDENR-5042564453</td>\n",
       "      <td>2016-07-13</td>\n",
       "      <td>1735</td>\n",
       "      <td>4</td>\n",
       "      <td>Acceso/Login</td>\n",
       "      <td>Problema</td>\n",
       "      <td>0 - Sin Clasificar</td>\n",
       "      <td>0 - Sin Asignar</td>\n",
       "      <td>0</td>\n",
       "      <td>5</td>\n",
       "      <td>2º semestre</td>\n",
       "      <td>2016</td>\n",
       "      <td>Julio</td>\n",
       "    </tr>\n",
       "    <tr>\n",
       "      <th>1</th>\n",
       "      <td>GDDENR-8042508060</td>\n",
       "      <td>2016-05-18</td>\n",
       "      <td>1566</td>\n",
       "      <td>10</td>\n",
       "      <td>Acceso/Login</td>\n",
       "      <td>Problema</td>\n",
       "      <td>0 - Sin Clasificar</td>\n",
       "      <td>0 - Sin Asignar</td>\n",
       "      <td>0</td>\n",
       "      <td>5</td>\n",
       "      <td>1 semestre</td>\n",
       "      <td>2016</td>\n",
       "      <td>Mayo</td>\n",
       "    </tr>\n",
       "    <tr>\n",
       "      <th>2</th>\n",
       "      <td>GDDESR-1342539995</td>\n",
       "      <td>2016-06-18</td>\n",
       "      <td>569</td>\n",
       "      <td>29</td>\n",
       "      <td>Sistema</td>\n",
       "      <td>Problema</td>\n",
       "      <td>0 - Sin Clasificar</td>\n",
       "      <td>0 - Sin Asignar</td>\n",
       "      <td>3</td>\n",
       "      <td>5</td>\n",
       "      <td>1 semestre</td>\n",
       "      <td>2016</td>\n",
       "      <td>Junio</td>\n",
       "    </tr>\n",
       "    <tr>\n",
       "      <th>3</th>\n",
       "      <td>GDDTSR-5942488006</td>\n",
       "      <td>2016-04-28</td>\n",
       "      <td>320</td>\n",
       "      <td>40</td>\n",
       "      <td>Sistema</td>\n",
       "      <td>Solicitud</td>\n",
       "      <td>0 - Sin Clasificar</td>\n",
       "      <td>0 - Sin Asignar</td>\n",
       "      <td>9</td>\n",
       "      <td>5</td>\n",
       "      <td>1 semestre</td>\n",
       "      <td>2016</td>\n",
       "      <td>Abril</td>\n",
       "    </tr>\n",
       "    <tr>\n",
       "      <th>4</th>\n",
       "      <td>GDLEER-0042524120</td>\n",
       "      <td>2016-06-03</td>\n",
       "      <td>1842</td>\n",
       "      <td>31</td>\n",
       "      <td>Software</td>\n",
       "      <td>Problema</td>\n",
       "      <td>2 - Normal</td>\n",
       "      <td>0 - Sin Asignar</td>\n",
       "      <td>0</td>\n",
       "      <td>5</td>\n",
       "      <td>1 semestre</td>\n",
       "      <td>2016</td>\n",
       "      <td>Junio</td>\n",
       "    </tr>\n",
       "  </tbody>\n",
       "</table>\n",
       "</div>"
      ],
      "text/plain": [
       "           id_ticket       fecha  id_empleado  id_agente     categoría  \\\n",
       "0  GDDENR-5042564453  2016-07-13         1735          4  Acceso/Login   \n",
       "1  GDDENR-8042508060  2016-05-18         1566         10  Acceso/Login   \n",
       "2  GDDESR-1342539995  2016-06-18          569         29       Sistema   \n",
       "3  GDDTSR-5942488006  2016-04-28          320         40       Sistema   \n",
       "4  GDLEER-0042524120  2016-06-03         1842         31      Software   \n",
       "\n",
       "        tipo           severidad        prioridad  días_resolución  \\\n",
       "0   Problema  0 - Sin Clasificar  0 - Sin Asignar                0   \n",
       "1   Problema  0 - Sin Clasificar  0 - Sin Asignar                0   \n",
       "2   Problema  0 - Sin Clasificar  0 - Sin Asignar                3   \n",
       "3  Solicitud  0 - Sin Clasificar  0 - Sin Asignar                9   \n",
       "4   Problema          2 - Normal  0 - Sin Asignar                0   \n",
       "\n",
       "   satisfacción     semestre   año    mes  \n",
       "0             5  2º semestre  2016  Julio  \n",
       "1             5   1 semestre  2016   Mayo  \n",
       "2             5   1 semestre  2016  Junio  \n",
       "3             5   1 semestre  2016  Abril  \n",
       "4             5   1 semestre  2016  Junio  "
      ]
     },
     "execution_count": 3,
     "metadata": {},
     "output_type": "execute_result"
    }
   ],
   "source": [
    "df_tickets.head()"
   ]
  },
  {
   "attachments": {},
   "cell_type": "markdown",
   "metadata": {},
   "source": [
    "📌 Nota Como siempre, después de cada gráfica incluid una pequeña explicación de lo que nos está mostrando la gráfica.\n",
    "\n",
    "\n",
    "1. Estableced el tamaño de las figuras al inicio de vuestro jupyter para que todas tengan las mismas dimensiones.\n"
   ]
  },
  {
   "cell_type": "code",
   "execution_count": 4,
   "metadata": {},
   "outputs": [],
   "source": [
    "# establecemos el tamaño de tolas las gráficas de nuestro fichero\n",
    "\n",
    "plt.rcParams[\"figure.figsize\"] = (15,8)"
   ]
  },
  {
   "attachments": {},
   "cell_type": "markdown",
   "metadata": {},
   "source": [
    "2. Manos a la obra con los plots, estos irán muy dirigidos hacia las preguntas que queremos contestar, para hacer una primera aproximación a nuestras hipótesis:\n",
    "- En la primera gráfica tendremos que contestar la siguiente pregunta: ¿Son los tickets con mayor severidad y prioridad los que se resuelven antes?. Para eso tendréis que:\n",
    "    - Crear un subplot con dos gráficas.\n",
    "    - En la primera gráfica tendréis que mostrar la relación que existe entre la severidad y el tiempo de resolución. ¿Son los tickets que tienen una severidad más alta los que más tardan en resolverse?\n",
    "    - En la segunda gráfica tendréis que mostrar la relación que existe entre la prioridad y el tiempo de resolución. ¿Son los tickets que tienen una prioridad más alta los que más tardan en resolverse?\n"
   ]
  },
  {
   "cell_type": "code",
   "execution_count": 5,
   "metadata": {},
   "outputs": [
    {
     "data": {
      "image/png": "[encoded data removed]",
      "text/plain": [
       "<Figure size 1080x576 with 2 Axes>"
      ]
     },
     "metadata": {
      "needs_background": "light"
     },
     "output_type": "display_data"
    }
   ],
   "source": [
    "# elaboramos gráficas violinplot para observar la relación entre días de resolución y severidad y días de resolución y prioridad\n",
    "\n",
    "fig, axes = plt.subplots(1, 2)\n",
    "\n",
    "sns.violinplot(x= \"severidad\", y= \"días_resolución\", data = df_tickets , ax = axes[0], palette = \"mako\")\n",
    "sns.violinplot(x= \"prioridad\", y= \"días_resolución\", data = df_tickets , ax = axes[1], palette = \"turbo\")      \n",
    "\n",
    "\n",
    "plt.show();"
   ]
  },
  {
   "attachments": {},
   "cell_type": "markdown",
   "metadata": {},
   "source": [
    "1. De acuedo con la primera gráfica los tickes con mayor severidad, o sea, los de severidad \"crítico\" (4), son los que se solucionan en menos días. También los que están \"sin clasificar\" (0), y los de severidad \"menor\" (1) suelen ser solucionados en pocos días, aunque en estos casos, tenemos outliers por encima alargando nuestras gráficas. Que los dos extremos de severidad sean los que menos tiempo tarden, sugiere que las incidencias mas sencillas se solucionan pronto y que a las críticas, se les da mayor urgencia.\n",
    "2. Los tickes que tienen prioridad alta son los que se solucionan en menos días. Vemos que las incidencias que están en categoría \"Sin Asignar\" (0) se solucionan en aproximadamente los mismos días que los de prioridad \"baja\" (1). El sistema de asignación de prioridades funciona correctamente ya que el índice de prioridad es inversamente proporcional a los días de resolución. Es decir, cuanto mas crece la prioridad, menor es el tiempo de resolución. "
   ]
  },
  {
   "attachments": {},
   "cell_type": "markdown",
   "metadata": {},
   "source": [
    "\n",
    "- En la segunda gráfica contestaremos a la siguiente pregunta: ¿Están los clientes con problemas de acceso y login más contentos que los que tienen problemas de software?. Para eso tendréis que:\n",
    "    - Crear otro dataframe donde tengáis solo los datos para los datos para los problemas de tipo \"Acceso/Login\" o \"Software\".\n",
    "    - Crear una gráfica donde podamos ver la satisfacción de los clientes en función de los problemas filtrados en el paso anterior.\n"
   ]
  },
  {
   "cell_type": "code",
   "execution_count": 6,
   "metadata": {},
   "outputs": [
    {
     "data": {
      "text/html": [
       "<div>\n",
       "<style scoped>\n",
       "    .dataframe tbody tr th:only-of-type {\n",
       "        vertical-align: middle;\n",
       "    }\n",
       "\n",
       "    .dataframe tbody tr th {\n",
       "        vertical-align: top;\n",
       "    }\n",
       "\n",
       "    .dataframe thead th {\n",
       "        text-align: right;\n",
       "    }\n",
       "</style>\n",
       "<table border=\"1\" class=\"dataframe\">\n",
       "  <thead>\n",
       "    <tr style=\"text-align: right;\">\n",
       "      <th></th>\n",
       "      <th>id_ticket</th>\n",
       "      <th>fecha</th>\n",
       "      <th>id_empleado</th>\n",
       "      <th>id_agente</th>\n",
       "      <th>categoría</th>\n",
       "      <th>tipo</th>\n",
       "      <th>severidad</th>\n",
       "      <th>prioridad</th>\n",
       "      <th>días_resolución</th>\n",
       "      <th>satisfacción</th>\n",
       "      <th>semestre</th>\n",
       "      <th>año</th>\n",
       "      <th>mes</th>\n",
       "    </tr>\n",
       "  </thead>\n",
       "  <tbody>\n",
       "    <tr>\n",
       "      <th>0</th>\n",
       "      <td>GDDENR-5042564453</td>\n",
       "      <td>2016-07-13</td>\n",
       "      <td>1735</td>\n",
       "      <td>4</td>\n",
       "      <td>Acceso/Login</td>\n",
       "      <td>Problema</td>\n",
       "      <td>0 - Sin Clasificar</td>\n",
       "      <td>0 - Sin Asignar</td>\n",
       "      <td>0</td>\n",
       "      <td>5</td>\n",
       "      <td>2º semestre</td>\n",
       "      <td>2016</td>\n",
       "      <td>Julio</td>\n",
       "    </tr>\n",
       "    <tr>\n",
       "      <th>1</th>\n",
       "      <td>GDDENR-8042508060</td>\n",
       "      <td>2016-05-18</td>\n",
       "      <td>1566</td>\n",
       "      <td>10</td>\n",
       "      <td>Acceso/Login</td>\n",
       "      <td>Problema</td>\n",
       "      <td>0 - Sin Clasificar</td>\n",
       "      <td>0 - Sin Asignar</td>\n",
       "      <td>0</td>\n",
       "      <td>5</td>\n",
       "      <td>1 semestre</td>\n",
       "      <td>2016</td>\n",
       "      <td>Mayo</td>\n",
       "    </tr>\n",
       "    <tr>\n",
       "      <th>4</th>\n",
       "      <td>GDLEER-0042524120</td>\n",
       "      <td>2016-06-03</td>\n",
       "      <td>1842</td>\n",
       "      <td>31</td>\n",
       "      <td>Software</td>\n",
       "      <td>Problema</td>\n",
       "      <td>2 - Normal</td>\n",
       "      <td>0 - Sin Asignar</td>\n",
       "      <td>0</td>\n",
       "      <td>5</td>\n",
       "      <td>1 semestre</td>\n",
       "      <td>2016</td>\n",
       "      <td>Junio</td>\n",
       "    </tr>\n",
       "    <tr>\n",
       "      <th>5</th>\n",
       "      <td>GDLEER-0142608095</td>\n",
       "      <td>2016-08-26</td>\n",
       "      <td>59</td>\n",
       "      <td>20</td>\n",
       "      <td>Software</td>\n",
       "      <td>Problema</td>\n",
       "      <td>2 - Normal</td>\n",
       "      <td>0 - Sin Asignar</td>\n",
       "      <td>1</td>\n",
       "      <td>1</td>\n",
       "      <td>2º semestre</td>\n",
       "      <td>2016</td>\n",
       "      <td>Agosto</td>\n",
       "    </tr>\n",
       "    <tr>\n",
       "      <th>6</th>\n",
       "      <td>GDLEER-0242564650</td>\n",
       "      <td>2016-07-13</td>\n",
       "      <td>1175</td>\n",
       "      <td>36</td>\n",
       "      <td>Software</td>\n",
       "      <td>Problema</td>\n",
       "      <td>2 - Normal</td>\n",
       "      <td>0 - Sin Asignar</td>\n",
       "      <td>2</td>\n",
       "      <td>1</td>\n",
       "      <td>2º semestre</td>\n",
       "      <td>2016</td>\n",
       "      <td>Julio</td>\n",
       "    </tr>\n",
       "    <tr>\n",
       "      <th>...</th>\n",
       "      <td>...</td>\n",
       "      <td>...</td>\n",
       "      <td>...</td>\n",
       "      <td>...</td>\n",
       "      <td>...</td>\n",
       "      <td>...</td>\n",
       "      <td>...</td>\n",
       "      <td>...</td>\n",
       "      <td>...</td>\n",
       "      <td>...</td>\n",
       "      <td>...</td>\n",
       "      <td>...</td>\n",
       "      <td>...</td>\n",
       "    </tr>\n",
       "    <tr>\n",
       "      <th>29067</th>\n",
       "      <td>TWRTNR-3143942621</td>\n",
       "      <td>2020-04-21</td>\n",
       "      <td>1142</td>\n",
       "      <td>6</td>\n",
       "      <td>Acceso/Login</td>\n",
       "      <td>Solicitud</td>\n",
       "      <td>3 - Mayor</td>\n",
       "      <td>1 - Baja</td>\n",
       "      <td>1</td>\n",
       "      <td>4</td>\n",
       "      <td>1 semestre</td>\n",
       "      <td>2020</td>\n",
       "      <td>Abril</td>\n",
       "    </tr>\n",
       "    <tr>\n",
       "      <th>29068</th>\n",
       "      <td>TWRTNR-4043879718</td>\n",
       "      <td>2020-02-18</td>\n",
       "      <td>621</td>\n",
       "      <td>17</td>\n",
       "      <td>Acceso/Login</td>\n",
       "      <td>Solicitud</td>\n",
       "      <td>1 - Menor</td>\n",
       "      <td>1 - Baja</td>\n",
       "      <td>0</td>\n",
       "      <td>4</td>\n",
       "      <td>1 semestre</td>\n",
       "      <td>2020</td>\n",
       "      <td>Febrero</td>\n",
       "    </tr>\n",
       "    <tr>\n",
       "      <th>29069</th>\n",
       "      <td>TWRTNR-4043958035</td>\n",
       "      <td>2020-05-07</td>\n",
       "      <td>3</td>\n",
       "      <td>30</td>\n",
       "      <td>Acceso/Login</td>\n",
       "      <td>Solicitud</td>\n",
       "      <td>1 - Menor</td>\n",
       "      <td>1 - Baja</td>\n",
       "      <td>0</td>\n",
       "      <td>4</td>\n",
       "      <td>1 semestre</td>\n",
       "      <td>2020</td>\n",
       "      <td>Mayo</td>\n",
       "    </tr>\n",
       "    <tr>\n",
       "      <th>29070</th>\n",
       "      <td>TWRTNR-8143882402</td>\n",
       "      <td>2020-02-21</td>\n",
       "      <td>360</td>\n",
       "      <td>4</td>\n",
       "      <td>Acceso/Login</td>\n",
       "      <td>Solicitud</td>\n",
       "      <td>3 - Mayor</td>\n",
       "      <td>1 - Baja</td>\n",
       "      <td>1</td>\n",
       "      <td>5</td>\n",
       "      <td>1 semestre</td>\n",
       "      <td>2020</td>\n",
       "      <td>Febrero</td>\n",
       "    </tr>\n",
       "    <tr>\n",
       "      <th>29071</th>\n",
       "      <td>TWRTNR-9044102594</td>\n",
       "      <td>2020-09-28</td>\n",
       "      <td>129</td>\n",
       "      <td>45</td>\n",
       "      <td>Acceso/Login</td>\n",
       "      <td>Solicitud</td>\n",
       "      <td>1 - Menor</td>\n",
       "      <td>1 - Baja</td>\n",
       "      <td>0</td>\n",
       "      <td>5</td>\n",
       "      <td>2º semestre</td>\n",
       "      <td>2020</td>\n",
       "      <td>Septiembre</td>\n",
       "    </tr>\n",
       "  </tbody>\n",
       "</table>\n",
       "<p>48708 rows × 13 columns</p>\n",
       "</div>"
      ],
      "text/plain": [
       "               id_ticket       fecha  id_empleado  id_agente     categoría  \\\n",
       "0      GDDENR-5042564453  2016-07-13         1735          4  Acceso/Login   \n",
       "1      GDDENR-8042508060  2016-05-18         1566         10  Acceso/Login   \n",
       "4      GDLEER-0042524120  2016-06-03         1842         31      Software   \n",
       "5      GDLEER-0142608095  2016-08-26           59         20      Software   \n",
       "6      GDLEER-0242564650  2016-07-13         1175         36      Software   \n",
       "...                  ...         ...          ...        ...           ...   \n",
       "29067  TWRTNR-3143942621  2020-04-21         1142          6  Acceso/Login   \n",
       "29068  TWRTNR-4043879718  2020-02-18          621         17  Acceso/Login   \n",
       "29069  TWRTNR-4043958035  2020-05-07            3         30  Acceso/Login   \n",
       "29070  TWRTNR-8143882402  2020-02-21          360          4  Acceso/Login   \n",
       "29071  TWRTNR-9044102594  2020-09-28          129         45  Acceso/Login   \n",
       "\n",
       "            tipo           severidad        prioridad  días_resolución  \\\n",
       "0       Problema  0 - Sin Clasificar  0 - Sin Asignar                0   \n",
       "1       Problema  0 - Sin Clasificar  0 - Sin Asignar                0   \n",
       "4       Problema          2 - Normal  0 - Sin Asignar                0   \n",
       "5       Problema          2 - Normal  0 - Sin Asignar                1   \n",
       "6       Problema          2 - Normal  0 - Sin Asignar                2   \n",
       "...          ...                 ...              ...              ...   \n",
       "29067  Solicitud           3 - Mayor         1 - Baja                1   \n",
       "29068  Solicitud           1 - Menor         1 - Baja                0   \n",
       "29069  Solicitud           1 - Menor         1 - Baja                0   \n",
       "29070  Solicitud           3 - Mayor         1 - Baja                1   \n",
       "29071  Solicitud           1 - Menor         1 - Baja                0   \n",
       "\n",
       "       satisfacción     semestre   año         mes  \n",
       "0                 5  2º semestre  2016       Julio  \n",
       "1                 5   1 semestre  2016        Mayo  \n",
       "4                 5   1 semestre  2016       Junio  \n",
       "5                 1  2º semestre  2016      Agosto  \n",
       "6                 1  2º semestre  2016       Julio  \n",
       "...             ...          ...   ...         ...  \n",
       "29067             4   1 semestre  2020       Abril  \n",
       "29068             4   1 semestre  2020     Febrero  \n",
       "29069             4   1 semestre  2020        Mayo  \n",
       "29070             5   1 semestre  2020     Febrero  \n",
       "29071             5  2º semestre  2020  Septiembre  \n",
       "\n",
       "[48708 rows x 13 columns]"
      ]
     },
     "execution_count": 6,
     "metadata": {},
     "output_type": "execute_result"
    }
   ],
   "source": [
    "# filtramos el df por categoría Acesso/login y categoría Software\n",
    "\n",
    "\n",
    "df_categoria = df_tickets[(df_tickets['categoría']== 'Acceso/Login') | (df_tickets['categoría']== 'Software')]\n",
    "df_categoria"
   ]
  },
  {
   "cell_type": "code",
   "execution_count": 7,
   "metadata": {},
   "outputs": [
    {
     "data": {
      "text/plain": [
       "<AxesSubplot:xlabel='satisfacción', ylabel='count'>"
      ]
     },
     "execution_count": 7,
     "metadata": {},
     "output_type": "execute_result"
    },
    {
     "data": {
      "image/png": "[encoded data removed]",
      "text/plain": [
       "<Figure size 1080x576 with 1 Axes>"
      ]
     },
     "metadata": {
      "needs_background": "light"
     },
     "output_type": "display_data"
    }
   ],
   "source": [
    "# elaboramos una gráfica para mostrar los números de la satisfacción por categoría \n",
    "\n",
    "sns.countplot(x='satisfacción', data=df_categoria, hue= 'categoría', palette = \"rocket\")"
   ]
  },
  {
   "attachments": {},
   "cell_type": "markdown",
   "metadata": {},
   "source": [
    "1. La mayoria de los clientes en las dos categorías (\"Acceso/Login\" y \"Software) están satisfechos con la atención recibida, valorándola entre 4 y 5. \n",
    "2. No vemos marcadas diferencias entre las categorías a la hora de estimar la satisfacción. "
   ]
  },
  {
   "attachments": {},
   "cell_type": "markdown",
   "metadata": {},
   "source": [
    "- En la tercera gráfica contestaremos a las siguientes preguntas ¿Cuáles son los empleados que más tickets atienden? ¿Son los empleados que atienden más tickets los que tardan más en solucionar los problemas de los clientes? ¿Y la media de la satisfacción de los clientes es menor en aquellos empleados que atienden más solicitudes?. Para contestar a esto haremos 3 gráficas independientes:\n",
    "\n",
    "     - En la primera gráfica deberemos, ¿Cuáles son los empleados que más tickets atienden?:\n",
    "         - Sacar el número de tickets por empleado. Pista 💡 Para esto tendremos que usar un groupby.\n",
    "         - Visualizar el resultado del groupby anterior con la gráfica que sea más adecuada.\n"
   ]
  },
  {
   "cell_type": "code",
   "execution_count": 8,
   "metadata": {},
   "outputs": [],
   "source": [
    "# agrupamos los  id_tickets por id_empleados\n",
    "\n",
    "df_empleados=df_tickets.groupby(\"id_empleado\")[[\"id_ticket\"]].count().reset_index()\n",
    "\n"
   ]
  },
  {
   "cell_type": "code",
   "execution_count": 9,
   "metadata": {},
   "outputs": [
    {
     "data": {
      "text/plain": [
       "pandas.core.frame.DataFrame"
      ]
     },
     "execution_count": 9,
     "metadata": {},
     "output_type": "execute_result"
    }
   ],
   "source": [
    "type(df_empleados)"
   ]
  },
  {
   "cell_type": "code",
   "execution_count": 10,
   "metadata": {},
   "outputs": [
    {
     "data": {
      "text/html": [
       "<div>\n",
       "<style scoped>\n",
       "    .dataframe tbody tr th:only-of-type {\n",
       "        vertical-align: middle;\n",
       "    }\n",
       "\n",
       "    .dataframe tbody tr th {\n",
       "        vertical-align: top;\n",
       "    }\n",
       "\n",
       "    .dataframe thead th {\n",
       "        text-align: right;\n",
       "    }\n",
       "</style>\n",
       "<table border=\"1\" class=\"dataframe\">\n",
       "  <thead>\n",
       "    <tr style=\"text-align: right;\">\n",
       "      <th></th>\n",
       "      <th>id_empleado</th>\n",
       "      <th>id_ticket</th>\n",
       "    </tr>\n",
       "  </thead>\n",
       "  <tbody>\n",
       "    <tr>\n",
       "      <th>753</th>\n",
       "      <td>754</td>\n",
       "      <td>73</td>\n",
       "    </tr>\n",
       "    <tr>\n",
       "      <th>284</th>\n",
       "      <td>285</td>\n",
       "      <td>73</td>\n",
       "    </tr>\n",
       "    <tr>\n",
       "      <th>635</th>\n",
       "      <td>636</td>\n",
       "      <td>71</td>\n",
       "    </tr>\n",
       "    <tr>\n",
       "      <th>522</th>\n",
       "      <td>523</td>\n",
       "      <td>69</td>\n",
       "    </tr>\n",
       "    <tr>\n",
       "      <th>78</th>\n",
       "      <td>79</td>\n",
       "      <td>69</td>\n",
       "    </tr>\n",
       "    <tr>\n",
       "      <th>...</th>\n",
       "      <td>...</td>\n",
       "      <td>...</td>\n",
       "    </tr>\n",
       "    <tr>\n",
       "      <th>1617</th>\n",
       "      <td>1618</td>\n",
       "      <td>31</td>\n",
       "    </tr>\n",
       "    <tr>\n",
       "      <th>71</th>\n",
       "      <td>72</td>\n",
       "      <td>31</td>\n",
       "    </tr>\n",
       "    <tr>\n",
       "      <th>1194</th>\n",
       "      <td>1195</td>\n",
       "      <td>29</td>\n",
       "    </tr>\n",
       "    <tr>\n",
       "      <th>98</th>\n",
       "      <td>99</td>\n",
       "      <td>27</td>\n",
       "    </tr>\n",
       "    <tr>\n",
       "      <th>792</th>\n",
       "      <td>793</td>\n",
       "      <td>26</td>\n",
       "    </tr>\n",
       "  </tbody>\n",
       "</table>\n",
       "<p>2000 rows × 2 columns</p>\n",
       "</div>"
      ],
      "text/plain": [
       "      id_empleado  id_ticket\n",
       "753           754         73\n",
       "284           285         73\n",
       "635           636         71\n",
       "522           523         69\n",
       "78             79         69\n",
       "...           ...        ...\n",
       "1617         1618         31\n",
       "71             72         31\n",
       "1194         1195         29\n",
       "98             99         27\n",
       "792           793         26\n",
       "\n",
       "[2000 rows x 2 columns]"
      ]
     },
     "execution_count": 10,
     "metadata": {},
     "output_type": "execute_result"
    }
   ],
   "source": [
    "# construímos un df con la información sobre número de tickets por id_empleado\n",
    "\n",
    "df_empleados= df_empleados.sort_values(by= 'id_ticket', ascending=False)\n",
    "\n",
    "df_empleados\n",
    "\n"
   ]
  },
  {
   "cell_type": "code",
   "execution_count": 24,
   "metadata": {},
   "outputs": [
    {
     "data": {
      "text/plain": [
       "<AxesSubplot:xlabel='id_empleado', ylabel='id_ticket'>"
      ]
     },
     "execution_count": 24,
     "metadata": {},
     "output_type": "execute_result"
    },
    {
     "data": {
      "image/png": "[encoded data removed]",
      "text/plain": [
       "<Figure size 1080x576 with 1 Axes>"
      ]
     },
     "metadata": {
      "needs_background": "light"
     },
     "output_type": "display_data"
    }
   ],
   "source": [
    "# construímos un barplot para mostrar la relación entre número de tickets por empleado \n",
    "\n",
    "sns.barplot(x = 'id_empleado', y = \"id_ticket\", data = df_empleados, palette = \"turbo\")"
   ]
  },
  {
   "attachments": {},
   "cell_type": "markdown",
   "metadata": {},
   "source": [
    "Esta gráfica no es fácilmente interpretable, dado el elevado número de id_empleado que tiene el dataframe, no obstante podemos ver que la mayoría de los empleados, tienen asignados entre 40 y 60 tickets. \n",
    "Por la naturaleza de la gráfica es facil observar que ciertos empleados destacan con un mayor número de tickets, pero es mucho más complicado determinar los valores atípicos por debajo, en ningún caso podemos saber con certeza a qué empleado corresponde cada línea. "
   ]
  },
  {
   "attachments": {},
   "cell_type": "markdown",
   "metadata": {},
   "source": [
    "\n",
    "- En la segunda gráfica, ¿Son los empleados que atienden más tickets los que tardan más en solucionar los problemas de los clientes?\n",
    "    - Deberéis crear una lista donde tengamos los \"id's\" de los 10 empleados que resuelvan más cantidad tickets y con los 10 empleados que resuelvan menos cantidad de tickets.\n",
    "    - Usando la lista generada en el ejercicio anterior filtrad el dataframe para quedaros solo con los 10 seleccionados en el ejercicio anterior.\n",
    "    - Una vez tengáis el dataframe filtrado, cread una gráfica donde veamos el tiempo de resolución de solicitudes para cada empleado.\n"
   ]
  },
  {
   "cell_type": "code",
   "execution_count": 12,
   "metadata": {},
   "outputs": [
    {
     "data": {
      "text/plain": [
       "[754, 285, 636, 523, 79, 1341, 442, 326, 482, 1448]"
      ]
     },
     "execution_count": 12,
     "metadata": {},
     "output_type": "execute_result"
    }
   ],
   "source": [
    "# creamos una lista solo con los 10 empleados que más tickets tienen\n",
    "\n",
    "df10_primeros = df_empleados.iloc[0:10]\n",
    "lista_10_primeros = list(df10_primeros[\"id_empleado\"].values)\n",
    "lista_10_primeros"
   ]
  },
  {
   "cell_type": "code",
   "execution_count": 13,
   "metadata": {},
   "outputs": [
    {
     "data": {
      "text/plain": [
       "[1041, 1792, 607, 686, 1384, 1618, 72, 1195, 99, 793]"
      ]
     },
     "execution_count": 13,
     "metadata": {},
     "output_type": "execute_result"
    }
   ],
   "source": [
    "# creamos una lista solo con los 10 empleados que menos tickets tienen\n",
    "\n",
    "df10_ultimos = df_empleados.iloc[-10:]\n",
    "lista_10_ultimos = list(df10_ultimos[\"id_empleado\"].values)\n",
    "lista_10_ultimos"
   ]
  },
  {
   "cell_type": "code",
   "execution_count": 14,
   "metadata": {},
   "outputs": [],
   "source": [
    "# chequeamos cuales empleados están en cada una de las listas \n",
    "\n",
    "df_primeros = df_tickets[df_tickets[\"id_empleado\"].isin(lista_10_primeros)]\n",
    "df_ultimos = df_tickets[df_tickets[\"id_empleado\"].isin(lista_10_ultimos)]"
   ]
  },
  {
   "cell_type": "code",
   "execution_count": 20,
   "metadata": {},
   "outputs": [
    {
     "data": {
      "text/plain": [
       "<AxesSubplot:xlabel='id_empleado', ylabel='días_resolución'>"
      ]
     },
     "execution_count": 20,
     "metadata": {},
     "output_type": "execute_result"
    },
    {
     "data": {
      "image/png": "[encoded data removed]",
      "text/plain": [
       "<Figure size 1080x576 with 1 Axes>"
      ]
     },
     "metadata": {
      "needs_background": "light"
     },
     "output_type": "display_data"
    }
   ],
   "source": [
    "# creamos un barplot que nos enseñe los tickets que tienen los 10 primeros empleados \n",
    "\n",
    "sns.barplot(x = 'id_empleado', y = \"días_resolución\", data = df_primeros, order = lista_10_primeros, palette = \"plasma_r\")"
   ]
  },
  {
   "cell_type": "code",
   "execution_count": 22,
   "metadata": {},
   "outputs": [
    {
     "data": {
      "text/plain": [
       "<AxesSubplot:xlabel='id_empleado', ylabel='días_resolución'>"
      ]
     },
     "execution_count": 22,
     "metadata": {},
     "output_type": "execute_result"
    },
    {
     "data": {
      "image/png": "[encoded data removed]",
      "text/plain": [
       "<Figure size 1080x576 with 1 Axes>"
      ]
     },
     "metadata": {
      "needs_background": "light"
     },
     "output_type": "display_data"
    }
   ],
   "source": [
    "# creamos un barplot que nos enseñe los tickets que tienen los 10 últimos empleados \n",
    "\n",
    "sns.barplot(x = 'id_empleado', y = \"días_resolución\", data = df_ultimos, order = lista_10_ultimos, palette = \"plasma\")"
   ]
  },
  {
   "attachments": {},
   "cell_type": "markdown",
   "metadata": {},
   "source": [
    "Vemos que en la gráfica de los 10 empleados con más tickets, la media de días de resolución es menor que en la de los 10 empleados con menos tickets. También podemos observar que las diferencias entre los 10 primeros son menores entre si. Sin embargo, en la segunda gráfica, hay empleados cuya media de tiempo de resolución es aproximadamente el doble que otros, evidenciando así una mayor dispersión de los valores."
   ]
  },
  {
   "attachments": {},
   "cell_type": "markdown",
   "metadata": {},
   "source": [
    "\n",
    "        \n",
    "- En la tercera gráfica, ¿Y la media de la satisfacción de los clientes es menor en aquellos empleados que atienden más solicitudes?:\n",
    "📌 Usaremos los mismos datos que en la pregunta anterior, el dataframe de los 10 empleados más productivos y menos productivos.\n",
    "  - Cread una gráfica donde veamos la satisfacción de los clientes para cada empleado."
   ]
  },
  {
   "cell_type": "code",
   "execution_count": 26,
   "metadata": {},
   "outputs": [
    {
     "data": {
      "text/plain": [
       "<AxesSubplot:xlabel='id_empleado', ylabel='satisfacción'>"
      ]
     },
     "execution_count": 26,
     "metadata": {},
     "output_type": "execute_result"
    },
    {
     "data": {
      "image/png": "[encoded data removed]",
      "text/plain": [
       "<Figure size 1080x576 with 1 Axes>"
      ]
     },
     "metadata": {
      "needs_background": "light"
     },
     "output_type": "display_data"
    }
   ],
   "source": [
    "# creamos un barplot que nos enseñe la satisfacción de los clientes con los 10 primeros empleados \n",
    "\n",
    "sns.barplot(x = 'id_empleado', y = \"satisfacción\", data = df_primeros, order = lista_10_primeros, palette = \"viridis\")"
   ]
  },
  {
   "cell_type": "code",
   "execution_count": 27,
   "metadata": {},
   "outputs": [
    {
     "data": {
      "text/plain": [
       "<AxesSubplot:xlabel='id_empleado', ylabel='satisfacción'>"
      ]
     },
     "execution_count": 27,
     "metadata": {},
     "output_type": "execute_result"
    },
    {
     "data": {
      "image/png": "[encoded data removed]",
      "text/plain": [
       "<Figure size 1080x576 with 1 Axes>"
      ]
     },
     "metadata": {
      "needs_background": "light"
     },
     "output_type": "display_data"
    }
   ],
   "source": [
    "# creamos un barplot que nos enseñe la satisfacción de los clientes con los 10 últimos empleados \n",
    "\n",
    "\n",
    "sns.barplot(x = 'id_empleado', y = \"satisfacción\", data = df_ultimos, order = lista_10_ultimos, palette = \"viridis\")"
   ]
  },
  {
   "attachments": {},
   "cell_type": "markdown",
   "metadata": {},
   "source": [
    "La media de satisfacción de los clientes de los 10 empleados con más tickets, es muy ligeramente superior, a la media de satisfacción para los 10 empleados con menos tickts, en ambos casos los índices de satisfacción estan por encima de 4. No apreciamos mayores diferencias entre los dos conjuntos de datos."
   ]
  }
 ],
 "metadata": {
  "kernelspec": {
   "display_name": "adalabenv",
   "language": "python",
   "name": "python3"
  },
  "language_info": {
   "codemirror_mode": {
    "name": "ipython",
    "version": 3
   },
   "file_extension": ".py",
   "mimetype": "text/x-python",
   "name": "python",
   "nbconvert_exporter": "python",
   "pygments_lexer": "ipython3",
   "version": "3.11.0"
  },
  "orig_nbformat": 4
 },
 "nbformat": 4,
 "nbformat_minor": 2
}
