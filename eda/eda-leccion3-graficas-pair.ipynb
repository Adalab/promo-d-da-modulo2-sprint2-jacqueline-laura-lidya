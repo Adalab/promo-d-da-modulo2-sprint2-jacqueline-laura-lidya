{
 "cells": [
  {
   "attachments": {},
   "cell_type": "markdown",
   "metadata": {},
   "source": [
    "# **Ejercicios de pair programming Módulo 2**\n",
    "## **EDA: Lección III**\n",
    "### **Análisis exploratorio gráfico**\n",
    "\n",
    "---"
   ]
  },
  {
   "cell_type": "code",
   "execution_count": 3,
   "metadata": {},
   "outputs": [],
   "source": [
    "import pandas as pd\n",
    "import seaborn as sns\n",
    "import matplotlib.pyplot as plt\n",
    "\n"
   ]
  },
  {
   "cell_type": "code",
   "execution_count": 4,
   "metadata": {},
   "outputs": [],
   "source": [
    "df_tickets = pd.read_csv(\"data/historico_tickets_limpio.csv\", index_col = 0)\n",
    "pd.options.display.max_columns = None"
   ]
  },
  {
   "cell_type": "code",
   "execution_count": 5,
   "metadata": {},
   "outputs": [
    {
     "data": {
      "text/html": [
       "<div>\n",
       "<style scoped>\n",
       "    .dataframe tbody tr th:only-of-type {\n",
       "        vertical-align: middle;\n",
       "    }\n",
       "\n",
       "    .dataframe tbody tr th {\n",
       "        vertical-align: top;\n",
       "    }\n",
       "\n",
       "    .dataframe thead th {\n",
       "        text-align: right;\n",
       "    }\n",
       "</style>\n",
       "<table border=\"1\" class=\"dataframe\">\n",
       "  <thead>\n",
       "    <tr style=\"text-align: right;\">\n",
       "      <th></th>\n",
       "      <th>id_ticket</th>\n",
       "      <th>fecha</th>\n",
       "      <th>id_empleado</th>\n",
       "      <th>id_agente</th>\n",
       "      <th>categoría</th>\n",
       "      <th>tipo</th>\n",
       "      <th>severidad</th>\n",
       "      <th>prioridad</th>\n",
       "      <th>días_resolución</th>\n",
       "      <th>satisfacción</th>\n",
       "      <th>semestre</th>\n",
       "      <th>año</th>\n",
       "      <th>mes</th>\n",
       "    </tr>\n",
       "  </thead>\n",
       "  <tbody>\n",
       "    <tr>\n",
       "      <th>0</th>\n",
       "      <td>GDDENR-5042564453</td>\n",
       "      <td>2016-07-13</td>\n",
       "      <td>1735</td>\n",
       "      <td>4</td>\n",
       "      <td>Acceso/Login</td>\n",
       "      <td>Problema</td>\n",
       "      <td>0 - Sin Clasificar</td>\n",
       "      <td>0 - Sin Asignar</td>\n",
       "      <td>0</td>\n",
       "      <td>5</td>\n",
       "      <td>2º semestre</td>\n",
       "      <td>2016</td>\n",
       "      <td>Julio</td>\n",
       "    </tr>\n",
       "    <tr>\n",
       "      <th>1</th>\n",
       "      <td>GDDENR-8042508060</td>\n",
       "      <td>2016-05-18</td>\n",
       "      <td>1566</td>\n",
       "      <td>10</td>\n",
       "      <td>Acceso/Login</td>\n",
       "      <td>Problema</td>\n",
       "      <td>0 - Sin Clasificar</td>\n",
       "      <td>0 - Sin Asignar</td>\n",
       "      <td>0</td>\n",
       "      <td>5</td>\n",
       "      <td>1 semestre</td>\n",
       "      <td>2016</td>\n",
       "      <td>Mayo</td>\n",
       "    </tr>\n",
       "    <tr>\n",
       "      <th>2</th>\n",
       "      <td>GDDESR-1342539995</td>\n",
       "      <td>2016-06-18</td>\n",
       "      <td>569</td>\n",
       "      <td>29</td>\n",
       "      <td>Sistema</td>\n",
       "      <td>Problema</td>\n",
       "      <td>0 - Sin Clasificar</td>\n",
       "      <td>0 - Sin Asignar</td>\n",
       "      <td>3</td>\n",
       "      <td>5</td>\n",
       "      <td>1 semestre</td>\n",
       "      <td>2016</td>\n",
       "      <td>Junio</td>\n",
       "    </tr>\n",
       "    <tr>\n",
       "      <th>3</th>\n",
       "      <td>GDDTSR-5942488006</td>\n",
       "      <td>2016-04-28</td>\n",
       "      <td>320</td>\n",
       "      <td>40</td>\n",
       "      <td>Sistema</td>\n",
       "      <td>Solicitud</td>\n",
       "      <td>0 - Sin Clasificar</td>\n",
       "      <td>0 - Sin Asignar</td>\n",
       "      <td>9</td>\n",
       "      <td>5</td>\n",
       "      <td>1 semestre</td>\n",
       "      <td>2016</td>\n",
       "      <td>Abril</td>\n",
       "    </tr>\n",
       "    <tr>\n",
       "      <th>4</th>\n",
       "      <td>GDLEER-0042524120</td>\n",
       "      <td>2016-06-03</td>\n",
       "      <td>1842</td>\n",
       "      <td>31</td>\n",
       "      <td>Software</td>\n",
       "      <td>Problema</td>\n",
       "      <td>2 - Normal</td>\n",
       "      <td>0 - Sin Asignar</td>\n",
       "      <td>0</td>\n",
       "      <td>5</td>\n",
       "      <td>1 semestre</td>\n",
       "      <td>2016</td>\n",
       "      <td>Junio</td>\n",
       "    </tr>\n",
       "  </tbody>\n",
       "</table>\n",
       "</div>"
      ],
      "text/plain": [
       "           id_ticket       fecha  id_empleado  id_agente     categoría  \\\n",
       "0  GDDENR-5042564453  2016-07-13         1735          4  Acceso/Login   \n",
       "1  GDDENR-8042508060  2016-05-18         1566         10  Acceso/Login   \n",
       "2  GDDESR-1342539995  2016-06-18          569         29       Sistema   \n",
       "3  GDDTSR-5942488006  2016-04-28          320         40       Sistema   \n",
       "4  GDLEER-0042524120  2016-06-03         1842         31      Software   \n",
       "\n",
       "        tipo           severidad        prioridad  días_resolución  \\\n",
       "0   Problema  0 - Sin Clasificar  0 - Sin Asignar                0   \n",
       "1   Problema  0 - Sin Clasificar  0 - Sin Asignar                0   \n",
       "2   Problema  0 - Sin Clasificar  0 - Sin Asignar                3   \n",
       "3  Solicitud  0 - Sin Clasificar  0 - Sin Asignar                9   \n",
       "4   Problema          2 - Normal  0 - Sin Asignar                0   \n",
       "\n",
       "   satisfacción     semestre   año    mes  \n",
       "0             5  2º semestre  2016  Julio  \n",
       "1             5   1 semestre  2016   Mayo  \n",
       "2             5   1 semestre  2016  Junio  \n",
       "3             5   1 semestre  2016  Abril  \n",
       "4             5   1 semestre  2016  Junio  "
      ]
     },
     "execution_count": 5,
     "metadata": {},
     "output_type": "execute_result"
    }
   ],
   "source": [
    "df_tickets.head()"
   ]
  },
  {
   "attachments": {},
   "cell_type": "markdown",
   "metadata": {},
   "source": [
    "📌 Nota Como siempre, después de cada gráfica incluid una pequeña explicación de lo que nos está mostrando la gráfica.\n",
    "\n",
    "\n",
    "1. Estableced el tamaño de las figuras al inicio de vuestro jupyter para que todas tengan las mismas dimensiones.\n"
   ]
  },
  {
   "cell_type": "code",
   "execution_count": 6,
   "metadata": {},
   "outputs": [],
   "source": [
    "plt.rcParams[\"figure.figsize\"] = (15,8)"
   ]
  },
  {
   "attachments": {},
   "cell_type": "markdown",
   "metadata": {},
   "source": [
    "2. Manos a la obra con los plots, estos irán muy dirigidos hacia las preguntas que queremos contestar, para hacer una primera aproximación a nuestras hipótesis:\n",
    "- En la primera gráfica tendremos que contestar la siguiente pregunta: ¿Son los tickets con mayor severidad y prioridad los que se resuelven antes?. Para eso tendréis que:\n",
    "    - Crear un subplot con dos gráficas.\n",
    "    - En la primera gráfica tendréis que mostrar la relación que existe entre la severidad y el tiempo de resolución. ¿Son los tickets que tienen una severidad más alta los que más tardan en resolverse?\n",
    "    - En la segunda gráfica tendréis que mostrar la relación que existe entre la prioridad y el tiempo de resolución. ¿Son los tickets que tienen una prioridad más alta los que más tardan en resolverse?\n"
   ]
  },
  {
   "cell_type": "code",
   "execution_count": 7,
   "metadata": {},
   "outputs": [
    {
     "ename": "KeyboardInterrupt",
     "evalue": "",
     "output_type": "error",
     "traceback": [
      "\u001b[0;31m---------------------------------------------------------------------------\u001b[0m",
      "\u001b[0;31mKeyboardInterrupt\u001b[0m                         Traceback (most recent call last)",
      "Cell \u001b[0;32mIn[7], line 3\u001b[0m\n\u001b[1;32m      1\u001b[0m fig, axes \u001b[39m=\u001b[39m plt\u001b[39m.\u001b[39msubplots(\u001b[39m1\u001b[39m, \u001b[39m2\u001b[39m)\n\u001b[0;32m----> 3\u001b[0m sns\u001b[39m.\u001b[39;49mviolinplot(x\u001b[39m=\u001b[39;49m \u001b[39m\"\u001b[39;49m\u001b[39mseveridad\u001b[39;49m\u001b[39m\"\u001b[39;49m, y\u001b[39m=\u001b[39;49m \u001b[39m\"\u001b[39;49m\u001b[39mdías_resolución\u001b[39;49m\u001b[39m\"\u001b[39;49m, data \u001b[39m=\u001b[39;49m df_tickets , ax \u001b[39m=\u001b[39;49m axes[\u001b[39m0\u001b[39;49m], palette \u001b[39m=\u001b[39;49m \u001b[39m\"\u001b[39;49m\u001b[39mmako\u001b[39;49m\u001b[39m\"\u001b[39;49m)\n\u001b[1;32m      4\u001b[0m sns\u001b[39m.\u001b[39mviolinplot(x\u001b[39m=\u001b[39m \u001b[39m\"\u001b[39m\u001b[39mprioridad\u001b[39m\u001b[39m\"\u001b[39m, y\u001b[39m=\u001b[39m \u001b[39m\"\u001b[39m\u001b[39mdías_resolución\u001b[39m\u001b[39m\"\u001b[39m, data \u001b[39m=\u001b[39m df_tickets , ax \u001b[39m=\u001b[39m axes[\u001b[39m1\u001b[39m], palette \u001b[39m=\u001b[39m \u001b[39m\"\u001b[39m\u001b[39mturbo\u001b[39m\u001b[39m\"\u001b[39m)      \n\u001b[1;32m      7\u001b[0m plt\u001b[39m.\u001b[39mshow();\n",
      "File \u001b[0;32m/Library/Frameworks/Python.framework/Versions/3.11/lib/python3.11/site-packages/seaborn/categorical.py:2305\u001b[0m, in \u001b[0;36mviolinplot\u001b[0;34m(data, x, y, hue, order, hue_order, bw, cut, scale, scale_hue, gridsize, width, inner, split, dodge, orient, linewidth, color, palette, saturation, ax, **kwargs)\u001b[0m\n\u001b[1;32m   2297\u001b[0m \u001b[39mdef\u001b[39;00m \u001b[39mviolinplot\u001b[39m(\n\u001b[1;32m   2298\u001b[0m     data\u001b[39m=\u001b[39m\u001b[39mNone\u001b[39;00m, \u001b[39m*\u001b[39m, x\u001b[39m=\u001b[39m\u001b[39mNone\u001b[39;00m, y\u001b[39m=\u001b[39m\u001b[39mNone\u001b[39;00m, hue\u001b[39m=\u001b[39m\u001b[39mNone\u001b[39;00m, order\u001b[39m=\u001b[39m\u001b[39mNone\u001b[39;00m, hue_order\u001b[39m=\u001b[39m\u001b[39mNone\u001b[39;00m,\n\u001b[1;32m   2299\u001b[0m     bw\u001b[39m=\u001b[39m\u001b[39m\"\u001b[39m\u001b[39mscott\u001b[39m\u001b[39m\"\u001b[39m, cut\u001b[39m=\u001b[39m\u001b[39m2\u001b[39m, scale\u001b[39m=\u001b[39m\u001b[39m\"\u001b[39m\u001b[39marea\u001b[39m\u001b[39m\"\u001b[39m, scale_hue\u001b[39m=\u001b[39m\u001b[39mTrue\u001b[39;00m, gridsize\u001b[39m=\u001b[39m\u001b[39m100\u001b[39m,\n\u001b[0;32m   (...)\u001b[0m\n\u001b[1;32m   2302\u001b[0m     ax\u001b[39m=\u001b[39m\u001b[39mNone\u001b[39;00m, \u001b[39m*\u001b[39m\u001b[39m*\u001b[39mkwargs,\n\u001b[1;32m   2303\u001b[0m ):\n\u001b[0;32m-> 2305\u001b[0m     plotter \u001b[39m=\u001b[39m _ViolinPlotter(x, y, hue, data, order, hue_order,\n\u001b[1;32m   2306\u001b[0m                              bw, cut, scale, scale_hue, gridsize,\n\u001b[1;32m   2307\u001b[0m                              width, inner, split, dodge, orient, linewidth,\n\u001b[1;32m   2308\u001b[0m                              color, palette, saturation)\n\u001b[1;32m   2310\u001b[0m     \u001b[39mif\u001b[39;00m ax \u001b[39mis\u001b[39;00m \u001b[39mNone\u001b[39;00m:\n\u001b[1;32m   2311\u001b[0m         ax \u001b[39m=\u001b[39m plt\u001b[39m.\u001b[39mgca()\n",
      "File \u001b[0;32m/Library/Frameworks/Python.framework/Versions/3.11/lib/python3.11/site-packages/seaborn/categorical.py:903\u001b[0m, in \u001b[0;36m_ViolinPlotter.__init__\u001b[0;34m(self, x, y, hue, data, order, hue_order, bw, cut, scale, scale_hue, gridsize, width, inner, split, dodge, orient, linewidth, color, palette, saturation)\u001b[0m\n\u001b[1;32m    901\u001b[0m \u001b[39mself\u001b[39m\u001b[39m.\u001b[39mestablish_variables(x, y, hue, data, orient, order, hue_order)\n\u001b[1;32m    902\u001b[0m \u001b[39mself\u001b[39m\u001b[39m.\u001b[39mestablish_colors(color, palette, saturation)\n\u001b[0;32m--> 903\u001b[0m \u001b[39mself\u001b[39;49m\u001b[39m.\u001b[39;49mestimate_densities(bw, cut, scale, scale_hue, gridsize)\n\u001b[1;32m    905\u001b[0m \u001b[39mself\u001b[39m\u001b[39m.\u001b[39mgridsize \u001b[39m=\u001b[39m gridsize\n\u001b[1;32m    906\u001b[0m \u001b[39mself\u001b[39m\u001b[39m.\u001b[39mwidth \u001b[39m=\u001b[39m width\n",
      "File \u001b[0;32m/Library/Frameworks/Python.framework/Versions/3.11/lib/python3.11/site-packages/seaborn/categorical.py:973\u001b[0m, in \u001b[0;36m_ViolinPlotter.estimate_densities\u001b[0;34m(self, bw, cut, scale, scale_hue, gridsize)\u001b[0m\n\u001b[1;32m    971\u001b[0m \u001b[39m# Determine the support grid and get the density over it\u001b[39;00m\n\u001b[1;32m    972\u001b[0m support_i \u001b[39m=\u001b[39m \u001b[39mself\u001b[39m\u001b[39m.\u001b[39mkde_support(kde_data, bw_used, cut, gridsize)\n\u001b[0;32m--> 973\u001b[0m density_i \u001b[39m=\u001b[39m kde\u001b[39m.\u001b[39;49mevaluate(support_i)\n\u001b[1;32m    975\u001b[0m \u001b[39m# Update the data structures with these results\u001b[39;00m\n\u001b[1;32m    976\u001b[0m support\u001b[39m.\u001b[39mappend(support_i)\n",
      "File \u001b[0;32m/Library/Frameworks/Python.framework/Versions/3.11/lib/python3.11/site-packages/scipy/stats/_kde.py:268\u001b[0m, in \u001b[0;36mgaussian_kde.evaluate\u001b[0;34m(self, points)\u001b[0m\n\u001b[1;32m    265\u001b[0m         \u001b[39mraise\u001b[39;00m \u001b[39mValueError\u001b[39;00m(msg)\n\u001b[1;32m    267\u001b[0m output_dtype, spec \u001b[39m=\u001b[39m _get_output_dtype(\u001b[39mself\u001b[39m\u001b[39m.\u001b[39mcovariance, points)\n\u001b[0;32m--> 268\u001b[0m result \u001b[39m=\u001b[39m gaussian_kernel_estimate[spec](\n\u001b[1;32m    269\u001b[0m     \u001b[39mself\u001b[39;49m\u001b[39m.\u001b[39;49mdataset\u001b[39m.\u001b[39;49mT, \u001b[39mself\u001b[39;49m\u001b[39m.\u001b[39;49mweights[:, \u001b[39mNone\u001b[39;49;00m],\n\u001b[1;32m    270\u001b[0m     points\u001b[39m.\u001b[39;49mT, \u001b[39mself\u001b[39;49m\u001b[39m.\u001b[39;49mcho_cov, output_dtype)\n\u001b[1;32m    272\u001b[0m \u001b[39mreturn\u001b[39;00m result[:, \u001b[39m0\u001b[39m]\n",
      "\u001b[0;31mKeyboardInterrupt\u001b[0m: "
     ]
    },
    {
     "data": {
      "image/png": "[encoded data removed]",
      "text/plain": [
       "<Figure size 1500x800 with 2 Axes>"
      ]
     },
     "metadata": {},
     "output_type": "display_data"
    }
   ],
   "source": [
    "fig, axes = plt.subplots(1, 2)\n",
    "\n",
    "sns.violinplot(x= \"severidad\", y= \"días_resolución\", data = df_tickets , ax = axes[0], palette = \"mako\")\n",
    "sns.violinplot(x= \"prioridad\", y= \"días_resolución\", data = df_tickets , ax = axes[1], palette = \"turbo\")      \n",
    "\n",
    "\n",
    "plt.show();"
   ]
  },
  {
   "attachments": {},
   "cell_type": "markdown",
   "metadata": {},
   "source": [
    "1. De acuedo con la primera gráfica los tickes con mayor severidad, o sea, los de severidad \"crítico\" (4), son los que se solucionan en menos días. También los que están \"sin clasificar\" (0), y los de severidad \"menor\" (1) suelen ser solucionados en pocos días, aunque en estos casos, tenemos outliers por encima alargando nuestras gráficas. Que los dos extremos de severidad sean los que menos tiempo tarden, sugiere que las incidencias mas sencillas se solucionan pronto y que a las críticas, se les da mayor urgencia.\n",
    "2. Los tickes que tienen prioridad alta son los que se solucionan en menos días. Vemos que las incidencias que están en categoría \"Sin Asignar\" (0) se solucionan en aproximadamente los mismos días que los de prioridad \"baja\" (1). El sistema de asignación de prioridades funciona correctamente ya que el índice de prioridad es inversamente proporcional a los días de resolución. Es decir, cuanto mas crece la prioridad, menor es el tiempo de resolución. "
   ]
  },
  {
   "attachments": {},
   "cell_type": "markdown",
   "metadata": {},
   "source": [
    "\n",
    "- En la segunda gráfica contestaremos a la siguiente pregunta: ¿Están los clientes con problemas de acceso y login más contentos que los que tienen problemas de software?. Para eso tendréis que:\n",
    "    - Crear otro dataframe donde tengáis solo los datos para los datos para los problemas de tipo \"Acceso/Login\" o \"Software\".\n",
    "    - Crear una gráfica donde podamos ver la satisfacción de los clientes en función de los problemas filtrados en el paso anterior.\n"
   ]
  },
  {
   "cell_type": "code",
   "execution_count": null,
   "metadata": {},
   "outputs": [
    {
     "data": {
      "text/html": [
       "<div>\n",
       "<style scoped>\n",
       "    .dataframe tbody tr th:only-of-type {\n",
       "        vertical-align: middle;\n",
       "    }\n",
       "\n",
       "    .dataframe tbody tr th {\n",
       "        vertical-align: top;\n",
       "    }\n",
       "\n",
       "    .dataframe thead th {\n",
       "        text-align: right;\n",
       "    }\n",
       "</style>\n",
       "<table border=\"1\" class=\"dataframe\">\n",
       "  <thead>\n",
       "    <tr style=\"text-align: right;\">\n",
       "      <th></th>\n",
       "      <th>id_ticket</th>\n",
       "      <th>fecha</th>\n",
       "      <th>id_empleado</th>\n",
       "      <th>id_agente</th>\n",
       "      <th>categoría</th>\n",
       "      <th>tipo</th>\n",
       "      <th>severidad</th>\n",
       "      <th>prioridad</th>\n",
       "      <th>días_resolución</th>\n",
       "      <th>satisfacción</th>\n",
       "      <th>semestre</th>\n",
       "      <th>año</th>\n",
       "      <th>mes</th>\n",
       "    </tr>\n",
       "  </thead>\n",
       "  <tbody>\n",
       "    <tr>\n",
       "      <th>0</th>\n",
       "      <td>GDDENR-5042564453</td>\n",
       "      <td>2016-07-13</td>\n",
       "      <td>1735</td>\n",
       "      <td>4</td>\n",
       "      <td>Acceso/Login</td>\n",
       "      <td>Problema</td>\n",
       "      <td>0 - Sin Clasificar</td>\n",
       "      <td>0 - Sin Asignar</td>\n",
       "      <td>0</td>\n",
       "      <td>5</td>\n",
       "      <td>2º semestre</td>\n",
       "      <td>2016</td>\n",
       "      <td>Julio</td>\n",
       "    </tr>\n",
       "    <tr>\n",
       "      <th>1</th>\n",
       "      <td>GDDENR-8042508060</td>\n",
       "      <td>2016-05-18</td>\n",
       "      <td>1566</td>\n",
       "      <td>10</td>\n",
       "      <td>Acceso/Login</td>\n",
       "      <td>Problema</td>\n",
       "      <td>0 - Sin Clasificar</td>\n",
       "      <td>0 - Sin Asignar</td>\n",
       "      <td>0</td>\n",
       "      <td>5</td>\n",
       "      <td>1 semestre</td>\n",
       "      <td>2016</td>\n",
       "      <td>Mayo</td>\n",
       "    </tr>\n",
       "    <tr>\n",
       "      <th>4</th>\n",
       "      <td>GDLEER-0042524120</td>\n",
       "      <td>2016-06-03</td>\n",
       "      <td>1842</td>\n",
       "      <td>31</td>\n",
       "      <td>Software</td>\n",
       "      <td>Problema</td>\n",
       "      <td>2 - Normal</td>\n",
       "      <td>0 - Sin Asignar</td>\n",
       "      <td>0</td>\n",
       "      <td>5</td>\n",
       "      <td>1 semestre</td>\n",
       "      <td>2016</td>\n",
       "      <td>Junio</td>\n",
       "    </tr>\n",
       "    <tr>\n",
       "      <th>5</th>\n",
       "      <td>GDLEER-0142608095</td>\n",
       "      <td>2016-08-26</td>\n",
       "      <td>59</td>\n",
       "      <td>20</td>\n",
       "      <td>Software</td>\n",
       "      <td>Problema</td>\n",
       "      <td>2 - Normal</td>\n",
       "      <td>0 - Sin Asignar</td>\n",
       "      <td>1</td>\n",
       "      <td>1</td>\n",
       "      <td>2º semestre</td>\n",
       "      <td>2016</td>\n",
       "      <td>Agosto</td>\n",
       "    </tr>\n",
       "    <tr>\n",
       "      <th>6</th>\n",
       "      <td>GDLEER-0242564650</td>\n",
       "      <td>2016-07-13</td>\n",
       "      <td>1175</td>\n",
       "      <td>36</td>\n",
       "      <td>Software</td>\n",
       "      <td>Problema</td>\n",
       "      <td>2 - Normal</td>\n",
       "      <td>0 - Sin Asignar</td>\n",
       "      <td>2</td>\n",
       "      <td>1</td>\n",
       "      <td>2º semestre</td>\n",
       "      <td>2016</td>\n",
       "      <td>Julio</td>\n",
       "    </tr>\n",
       "    <tr>\n",
       "      <th>...</th>\n",
       "      <td>...</td>\n",
       "      <td>...</td>\n",
       "      <td>...</td>\n",
       "      <td>...</td>\n",
       "      <td>...</td>\n",
       "      <td>...</td>\n",
       "      <td>...</td>\n",
       "      <td>...</td>\n",
       "      <td>...</td>\n",
       "      <td>...</td>\n",
       "      <td>...</td>\n",
       "      <td>...</td>\n",
       "      <td>...</td>\n",
       "    </tr>\n",
       "    <tr>\n",
       "      <th>29067</th>\n",
       "      <td>TWRTNR-3143942621</td>\n",
       "      <td>2020-04-21</td>\n",
       "      <td>1142</td>\n",
       "      <td>6</td>\n",
       "      <td>Acceso/Login</td>\n",
       "      <td>Solicitud</td>\n",
       "      <td>3 - Mayor</td>\n",
       "      <td>1 - Baja</td>\n",
       "      <td>1</td>\n",
       "      <td>4</td>\n",
       "      <td>1 semestre</td>\n",
       "      <td>2020</td>\n",
       "      <td>Abril</td>\n",
       "    </tr>\n",
       "    <tr>\n",
       "      <th>29068</th>\n",
       "      <td>TWRTNR-4043879718</td>\n",
       "      <td>2020-02-18</td>\n",
       "      <td>621</td>\n",
       "      <td>17</td>\n",
       "      <td>Acceso/Login</td>\n",
       "      <td>Solicitud</td>\n",
       "      <td>1 - Menor</td>\n",
       "      <td>1 - Baja</td>\n",
       "      <td>0</td>\n",
       "      <td>4</td>\n",
       "      <td>1 semestre</td>\n",
       "      <td>2020</td>\n",
       "      <td>Febrero</td>\n",
       "    </tr>\n",
       "    <tr>\n",
       "      <th>29069</th>\n",
       "      <td>TWRTNR-4043958035</td>\n",
       "      <td>2020-05-07</td>\n",
       "      <td>3</td>\n",
       "      <td>30</td>\n",
       "      <td>Acceso/Login</td>\n",
       "      <td>Solicitud</td>\n",
       "      <td>1 - Menor</td>\n",
       "      <td>1 - Baja</td>\n",
       "      <td>0</td>\n",
       "      <td>4</td>\n",
       "      <td>1 semestre</td>\n",
       "      <td>2020</td>\n",
       "      <td>Mayo</td>\n",
       "    </tr>\n",
       "    <tr>\n",
       "      <th>29070</th>\n",
       "      <td>TWRTNR-8143882402</td>\n",
       "      <td>2020-02-21</td>\n",
       "      <td>360</td>\n",
       "      <td>4</td>\n",
       "      <td>Acceso/Login</td>\n",
       "      <td>Solicitud</td>\n",
       "      <td>3 - Mayor</td>\n",
       "      <td>1 - Baja</td>\n",
       "      <td>1</td>\n",
       "      <td>5</td>\n",
       "      <td>1 semestre</td>\n",
       "      <td>2020</td>\n",
       "      <td>Febrero</td>\n",
       "    </tr>\n",
       "    <tr>\n",
       "      <th>29071</th>\n",
       "      <td>TWRTNR-9044102594</td>\n",
       "      <td>2020-09-28</td>\n",
       "      <td>129</td>\n",
       "      <td>45</td>\n",
       "      <td>Acceso/Login</td>\n",
       "      <td>Solicitud</td>\n",
       "      <td>1 - Menor</td>\n",
       "      <td>1 - Baja</td>\n",
       "      <td>0</td>\n",
       "      <td>5</td>\n",
       "      <td>2º semestre</td>\n",
       "      <td>2020</td>\n",
       "      <td>Septiembre</td>\n",
       "    </tr>\n",
       "  </tbody>\n",
       "</table>\n",
       "<p>48708 rows × 13 columns</p>\n",
       "</div>"
      ],
      "text/plain": [
       "               id_ticket       fecha  id_empleado  id_agente     categoría  \\\n",
       "0      GDDENR-5042564453  2016-07-13         1735          4  Acceso/Login   \n",
       "1      GDDENR-8042508060  2016-05-18         1566         10  Acceso/Login   \n",
       "4      GDLEER-0042524120  2016-06-03         1842         31      Software   \n",
       "5      GDLEER-0142608095  2016-08-26           59         20      Software   \n",
       "6      GDLEER-0242564650  2016-07-13         1175         36      Software   \n",
       "...                  ...         ...          ...        ...           ...   \n",
       "29067  TWRTNR-3143942621  2020-04-21         1142          6  Acceso/Login   \n",
       "29068  TWRTNR-4043879718  2020-02-18          621         17  Acceso/Login   \n",
       "29069  TWRTNR-4043958035  2020-05-07            3         30  Acceso/Login   \n",
       "29070  TWRTNR-8143882402  2020-02-21          360          4  Acceso/Login   \n",
       "29071  TWRTNR-9044102594  2020-09-28          129         45  Acceso/Login   \n",
       "\n",
       "            tipo           severidad        prioridad  días_resolución  \\\n",
       "0       Problema  0 - Sin Clasificar  0 - Sin Asignar                0   \n",
       "1       Problema  0 - Sin Clasificar  0 - Sin Asignar                0   \n",
       "4       Problema          2 - Normal  0 - Sin Asignar                0   \n",
       "5       Problema          2 - Normal  0 - Sin Asignar                1   \n",
       "6       Problema          2 - Normal  0 - Sin Asignar                2   \n",
       "...          ...                 ...              ...              ...   \n",
       "29067  Solicitud           3 - Mayor         1 - Baja                1   \n",
       "29068  Solicitud           1 - Menor         1 - Baja                0   \n",
       "29069  Solicitud           1 - Menor         1 - Baja                0   \n",
       "29070  Solicitud           3 - Mayor         1 - Baja                1   \n",
       "29071  Solicitud           1 - Menor         1 - Baja                0   \n",
       "\n",
       "       satisfacción     semestre   año         mes  \n",
       "0                 5  2º semestre  2016       Julio  \n",
       "1                 5   1 semestre  2016        Mayo  \n",
       "4                 5   1 semestre  2016       Junio  \n",
       "5                 1  2º semestre  2016      Agosto  \n",
       "6                 1  2º semestre  2016       Julio  \n",
       "...             ...          ...   ...         ...  \n",
       "29067             4   1 semestre  2020       Abril  \n",
       "29068             4   1 semestre  2020     Febrero  \n",
       "29069             4   1 semestre  2020        Mayo  \n",
       "29070             5   1 semestre  2020     Febrero  \n",
       "29071             5  2º semestre  2020  Septiembre  \n",
       "\n",
       "[48708 rows x 13 columns]"
      ]
     },
     "execution_count": 10,
     "metadata": {},
     "output_type": "execute_result"
    }
   ],
   "source": [
    "df_categoria = df_tickets[(df_tickets['categoría']== 'Acceso/Login') | (df_tickets['categoría']== 'Software')]\n",
    "df_categoria"
   ]
  },
  {
   "cell_type": "code",
   "execution_count": null,
   "metadata": {},
   "outputs": [
    {
     "data": {
      "text/plain": [
       "<Axes: xlabel='satisfacción', ylabel='count'>"
      ]
     },
     "execution_count": 11,
     "metadata": {},
     "output_type": "execute_result"
    },
    {
     "data": {
      "image/png": "[encoded data removed]",
      "text/plain": [
       "<Figure size 1500x800 with 1 Axes>"
      ]
     },
     "metadata": {},
     "output_type": "display_data"
    }
   ],
   "source": [
    "sns.countplot(x='satisfacción', data=df_categoria, hue= 'categoría', palette = \"rocket\")"
   ]
  },
  {
   "attachments": {},
   "cell_type": "markdown",
   "metadata": {},
   "source": [
    "1. La mayoria de los clientes en las dos categorías (\"Acceso/Login\" y \"Software) están satisfechos con la atención recibida, valorándola entre 4 y 5. \n",
    "2. No vemos marcadas diferencias entre las categorías a la hora de estimar la satisfacción. "
   ]
  },
  {
   "attachments": {},
   "cell_type": "markdown",
   "metadata": {},
   "source": [
    "- En la tercera gráfica contestaremos a las siguientes preguntas ¿Cuáles son los empleados que más tickets atienden? ¿Son los empleados que atienden más tickets los que tardan más en solucionar los problemas de los clientes? ¿Y la media de la satisfacción de los clientes es menor en aquellos empleados que atienden más solicitudes?. Para contestar a esto haremos 3 gráficas independientes:\n",
    "\n",
    "     - En la primera gráfica deberemos, ¿Cuáles son los empleados que más tickets atienden?:\n",
    "         - Sacar el número de tickets por empleado. Pista 💡 Para esto tendremos que usar un groupby.\n",
    "         - Visualizar el resultado del groupby anterior con la gráfica que sea más adecuada.\n"
   ]
  },
  {
   "cell_type": "code",
   "execution_count": null,
   "metadata": {},
   "outputs": [
    {
     "ename": "NameError",
     "evalue": "name 'df_tickets' is not defined",
     "output_type": "error",
     "traceback": [
      "\u001b[0;31m---------------------------------------------------------------------------\u001b[0m",
      "\u001b[0;31mNameError\u001b[0m                                 Traceback (most recent call last)",
      "Cell \u001b[0;32mIn[2], line 1\u001b[0m\n\u001b[0;32m----> 1\u001b[0m df_empleados\u001b[39m=\u001b[39mdf_tickets\u001b[39m.\u001b[39mgroupby(\u001b[39m\"\u001b[39m\u001b[39mid_empleado\u001b[39m\u001b[39m\"\u001b[39m)[[\u001b[39m\"\u001b[39m\u001b[39mid_ticket\u001b[39m\u001b[39m\"\u001b[39m]]\u001b[39m.\u001b[39mcount()\u001b[39m.\u001b[39mreset_index()\n",
      "\u001b[0;31mNameError\u001b[0m: name 'df_tickets' is not defined"
     ]
    }
   ],
   "source": [
    "df_empleados=df_tickets.groupby(\"id_empleado\")[[\"id_ticket\"]].count().reset_index()\n",
    "\n"
   ]
  },
  {
   "cell_type": "code",
   "execution_count": null,
   "metadata": {},
   "outputs": [
    {
     "data": {
      "text/plain": [
       "pandas.core.frame.DataFrame"
      ]
     },
     "execution_count": 13,
     "metadata": {},
     "output_type": "execute_result"
    }
   ],
   "source": [
    "type(df_empleados)"
   ]
  },
  {
   "cell_type": "code",
   "execution_count": null,
   "metadata": {},
   "outputs": [
    {
     "data": {
      "text/html": [
       "<div>\n",
       "<style scoped>\n",
       "    .dataframe tbody tr th:only-of-type {\n",
       "        vertical-align: middle;\n",
       "    }\n",
       "\n",
       "    .dataframe tbody tr th {\n",
       "        vertical-align: top;\n",
       "    }\n",
       "\n",
       "    .dataframe thead th {\n",
       "        text-align: right;\n",
       "    }\n",
       "</style>\n",
       "<table border=\"1\" class=\"dataframe\">\n",
       "  <thead>\n",
       "    <tr style=\"text-align: right;\">\n",
       "      <th></th>\n",
       "      <th>id_empleado</th>\n",
       "      <th>id_ticket</th>\n",
       "    </tr>\n",
       "  </thead>\n",
       "  <tbody>\n",
       "    <tr>\n",
       "      <th>753</th>\n",
       "      <td>754</td>\n",
       "      <td>73</td>\n",
       "    </tr>\n",
       "    <tr>\n",
       "      <th>284</th>\n",
       "      <td>285</td>\n",
       "      <td>73</td>\n",
       "    </tr>\n",
       "    <tr>\n",
       "      <th>635</th>\n",
       "      <td>636</td>\n",
       "      <td>71</td>\n",
       "    </tr>\n",
       "    <tr>\n",
       "      <th>522</th>\n",
       "      <td>523</td>\n",
       "      <td>69</td>\n",
       "    </tr>\n",
       "    <tr>\n",
       "      <th>78</th>\n",
       "      <td>79</td>\n",
       "      <td>69</td>\n",
       "    </tr>\n",
       "    <tr>\n",
       "      <th>...</th>\n",
       "      <td>...</td>\n",
       "      <td>...</td>\n",
       "    </tr>\n",
       "    <tr>\n",
       "      <th>1617</th>\n",
       "      <td>1618</td>\n",
       "      <td>31</td>\n",
       "    </tr>\n",
       "    <tr>\n",
       "      <th>71</th>\n",
       "      <td>72</td>\n",
       "      <td>31</td>\n",
       "    </tr>\n",
       "    <tr>\n",
       "      <th>1194</th>\n",
       "      <td>1195</td>\n",
       "      <td>29</td>\n",
       "    </tr>\n",
       "    <tr>\n",
       "      <th>98</th>\n",
       "      <td>99</td>\n",
       "      <td>27</td>\n",
       "    </tr>\n",
       "    <tr>\n",
       "      <th>792</th>\n",
       "      <td>793</td>\n",
       "      <td>26</td>\n",
       "    </tr>\n",
       "  </tbody>\n",
       "</table>\n",
       "<p>2000 rows × 2 columns</p>\n",
       "</div>"
      ],
      "text/plain": [
       "      id_empleado  id_ticket\n",
       "753           754         73\n",
       "284           285         73\n",
       "635           636         71\n",
       "522           523         69\n",
       "78             79         69\n",
       "...           ...        ...\n",
       "1617         1618         31\n",
       "71             72         31\n",
       "1194         1195         29\n",
       "98             99         27\n",
       "792           793         26\n",
       "\n",
       "[2000 rows x 2 columns]"
      ]
     },
     "execution_count": 14,
     "metadata": {},
     "output_type": "execute_result"
    }
   ],
   "source": [
    "df_empleados= df_empleados.sort_values(by= 'id_ticket', ascending=False)\n",
    "\n",
    "df_empleados\n",
    "\n"
   ]
  },
  {
   "cell_type": "code",
   "execution_count": null,
   "metadata": {},
   "outputs": [
    {
     "ename": "KeyboardInterrupt",
     "evalue": "",
     "output_type": "error",
     "traceback": [
      "\u001b[0;31m---------------------------------------------------------------------------\u001b[0m",
      "\u001b[0;31mKeyboardInterrupt\u001b[0m                         Traceback (most recent call last)",
      "Cell \u001b[0;32mIn[15], line 3\u001b[0m\n\u001b[1;32m      1\u001b[0m \u001b[39m# preguntarle a Cesar en la tutoría\u001b[39;00m\n\u001b[0;32m----> 3\u001b[0m sns\u001b[39m.\u001b[39;49mboxplot(x\u001b[39m=\u001b[39;49m \u001b[39m\"\u001b[39;49m\u001b[39mid_empleado\u001b[39;49m\u001b[39m\"\u001b[39;49m, y\u001b[39m=\u001b[39;49m \u001b[39m\"\u001b[39;49m\u001b[39mid_ticket\u001b[39;49m\u001b[39m\"\u001b[39;49m, data \u001b[39m=\u001b[39;49m df_empleados)\n\u001b[1;32m      5\u001b[0m plt\u001b[39m.\u001b[39mshow();\n",
      "File \u001b[0;32m/Library/Frameworks/Python.framework/Versions/3.11/lib/python3.11/site-packages/seaborn/categorical.py:2239\u001b[0m, in \u001b[0;36mboxplot\u001b[0;34m(data, x, y, hue, order, hue_order, orient, color, palette, saturation, width, dodge, fliersize, linewidth, whis, ax, **kwargs)\u001b[0m\n\u001b[1;32m   2236\u001b[0m     ax \u001b[39m=\u001b[39m plt\u001b[39m.\u001b[39mgca()\n\u001b[1;32m   2237\u001b[0m kwargs\u001b[39m.\u001b[39mupdate(\u001b[39mdict\u001b[39m(whis\u001b[39m=\u001b[39mwhis))\n\u001b[0;32m-> 2239\u001b[0m plotter\u001b[39m.\u001b[39;49mplot(ax, kwargs)\n\u001b[1;32m   2240\u001b[0m \u001b[39mreturn\u001b[39;00m ax\n",
      "File \u001b[0;32m/Library/Frameworks/Python.framework/Versions/3.11/lib/python3.11/site-packages/seaborn/categorical.py:888\u001b[0m, in \u001b[0;36m_BoxPlotter.plot\u001b[0;34m(self, ax, boxplot_kws)\u001b[0m\n\u001b[1;32m    886\u001b[0m \u001b[39mdef\u001b[39;00m \u001b[39mplot\u001b[39m(\u001b[39mself\u001b[39m, ax, boxplot_kws):\n\u001b[1;32m    887\u001b[0m \u001b[39m    \u001b[39m\u001b[39m\"\"\"Make the plot.\"\"\"\u001b[39;00m\n\u001b[0;32m--> 888\u001b[0m     \u001b[39mself\u001b[39;49m\u001b[39m.\u001b[39;49mdraw_boxplot(ax, boxplot_kws)\n\u001b[1;32m    889\u001b[0m     \u001b[39mself\u001b[39m\u001b[39m.\u001b[39mannotate_axes(ax)\n\u001b[1;32m    890\u001b[0m     \u001b[39mif\u001b[39;00m \u001b[39mself\u001b[39m\u001b[39m.\u001b[39morient \u001b[39m==\u001b[39m \u001b[39m\"\u001b[39m\u001b[39mh\u001b[39m\u001b[39m\"\u001b[39m:\n",
      "File \u001b[0;32m/Library/Frameworks/Python.framework/Versions/3.11/lib/python3.11/site-packages/seaborn/categorical.py:820\u001b[0m, in \u001b[0;36m_BoxPlotter.draw_boxplot\u001b[0;34m(self, ax, kws)\u001b[0m\n\u001b[1;32m    817\u001b[0m \u001b[39mif\u001b[39;00m box_data\u001b[39m.\u001b[39msize \u001b[39m==\u001b[39m \u001b[39m0\u001b[39m:\n\u001b[1;32m    818\u001b[0m     \u001b[39mcontinue\u001b[39;00m\n\u001b[0;32m--> 820\u001b[0m artist_dict \u001b[39m=\u001b[39m ax\u001b[39m.\u001b[39;49mboxplot(box_data,\n\u001b[1;32m    821\u001b[0m                          vert\u001b[39m=\u001b[39;49mvert,\n\u001b[1;32m    822\u001b[0m                          patch_artist\u001b[39m=\u001b[39;49m\u001b[39mTrue\u001b[39;49;00m,\n\u001b[1;32m    823\u001b[0m                          positions\u001b[39m=\u001b[39;49m[i],\n\u001b[1;32m    824\u001b[0m                          widths\u001b[39m=\u001b[39;49m\u001b[39mself\u001b[39;49m\u001b[39m.\u001b[39;49mwidth,\n\u001b[1;32m    825\u001b[0m                          \u001b[39m*\u001b[39;49m\u001b[39m*\u001b[39;49mkws)\n\u001b[1;32m    826\u001b[0m color \u001b[39m=\u001b[39m \u001b[39mself\u001b[39m\u001b[39m.\u001b[39mcolors[i]\n\u001b[1;32m    827\u001b[0m \u001b[39mself\u001b[39m\u001b[39m.\u001b[39mrestyle_boxplot(artist_dict, color, props)\n",
      "File \u001b[0;32m/Library/Frameworks/Python.framework/Versions/3.11/lib/python3.11/site-packages/matplotlib/__init__.py:1442\u001b[0m, in \u001b[0;36m_preprocess_data.<locals>.inner\u001b[0;34m(ax, data, *args, **kwargs)\u001b[0m\n\u001b[1;32m   1439\u001b[0m \u001b[39m@functools\u001b[39m\u001b[39m.\u001b[39mwraps(func)\n\u001b[1;32m   1440\u001b[0m \u001b[39mdef\u001b[39;00m \u001b[39minner\u001b[39m(ax, \u001b[39m*\u001b[39margs, data\u001b[39m=\u001b[39m\u001b[39mNone\u001b[39;00m, \u001b[39m*\u001b[39m\u001b[39m*\u001b[39mkwargs):\n\u001b[1;32m   1441\u001b[0m     \u001b[39mif\u001b[39;00m data \u001b[39mis\u001b[39;00m \u001b[39mNone\u001b[39;00m:\n\u001b[0;32m-> 1442\u001b[0m         \u001b[39mreturn\u001b[39;00m func(ax, \u001b[39m*\u001b[39;49m\u001b[39mmap\u001b[39;49m(sanitize_sequence, args), \u001b[39m*\u001b[39;49m\u001b[39m*\u001b[39;49mkwargs)\n\u001b[1;32m   1444\u001b[0m     bound \u001b[39m=\u001b[39m new_sig\u001b[39m.\u001b[39mbind(ax, \u001b[39m*\u001b[39margs, \u001b[39m*\u001b[39m\u001b[39m*\u001b[39mkwargs)\n\u001b[1;32m   1445\u001b[0m     auto_label \u001b[39m=\u001b[39m (bound\u001b[39m.\u001b[39marguments\u001b[39m.\u001b[39mget(label_namer)\n\u001b[1;32m   1446\u001b[0m                   \u001b[39mor\u001b[39;00m bound\u001b[39m.\u001b[39mkwargs\u001b[39m.\u001b[39mget(label_namer))\n",
      "File \u001b[0;32m/Library/Frameworks/Python.framework/Versions/3.11/lib/python3.11/site-packages/matplotlib/axes/_axes.py:4010\u001b[0m, in \u001b[0;36mAxes.boxplot\u001b[0;34m(self, x, notch, sym, vert, whis, positions, widths, patch_artist, bootstrap, usermedians, conf_intervals, meanline, showmeans, showcaps, showbox, showfliers, boxprops, labels, flierprops, medianprops, meanprops, capprops, whiskerprops, manage_ticks, autorange, zorder, capwidths)\u001b[0m\n\u001b[1;32m   4007\u001b[0m                     \u001b[39mif\u001b[39;00m ci[\u001b[39m1\u001b[39m] \u001b[39mis\u001b[39;00m \u001b[39mnot\u001b[39;00m \u001b[39mNone\u001b[39;00m:\n\u001b[1;32m   4008\u001b[0m                         stats[\u001b[39m'\u001b[39m\u001b[39mcihi\u001b[39m\u001b[39m'\u001b[39m] \u001b[39m=\u001b[39m ci[\u001b[39m1\u001b[39m]\n\u001b[0;32m-> 4010\u001b[0m artists \u001b[39m=\u001b[39m \u001b[39mself\u001b[39;49m\u001b[39m.\u001b[39;49mbxp(bxpstats, positions\u001b[39m=\u001b[39;49mpositions, widths\u001b[39m=\u001b[39;49mwidths,\n\u001b[1;32m   4011\u001b[0m                    vert\u001b[39m=\u001b[39;49mvert, patch_artist\u001b[39m=\u001b[39;49mpatch_artist,\n\u001b[1;32m   4012\u001b[0m                    shownotches\u001b[39m=\u001b[39;49mnotch, showmeans\u001b[39m=\u001b[39;49mshowmeans,\n\u001b[1;32m   4013\u001b[0m                    showcaps\u001b[39m=\u001b[39;49mshowcaps, showbox\u001b[39m=\u001b[39;49mshowbox,\n\u001b[1;32m   4014\u001b[0m                    boxprops\u001b[39m=\u001b[39;49mboxprops, flierprops\u001b[39m=\u001b[39;49mflierprops,\n\u001b[1;32m   4015\u001b[0m                    medianprops\u001b[39m=\u001b[39;49mmedianprops, meanprops\u001b[39m=\u001b[39;49mmeanprops,\n\u001b[1;32m   4016\u001b[0m                    meanline\u001b[39m=\u001b[39;49mmeanline, showfliers\u001b[39m=\u001b[39;49mshowfliers,\n\u001b[1;32m   4017\u001b[0m                    capprops\u001b[39m=\u001b[39;49mcapprops, whiskerprops\u001b[39m=\u001b[39;49mwhiskerprops,\n\u001b[1;32m   4018\u001b[0m                    manage_ticks\u001b[39m=\u001b[39;49mmanage_ticks, zorder\u001b[39m=\u001b[39;49mzorder,\n\u001b[1;32m   4019\u001b[0m                    capwidths\u001b[39m=\u001b[39;49mcapwidths)\n\u001b[1;32m   4020\u001b[0m \u001b[39mreturn\u001b[39;00m artists\n",
      "File \u001b[0;32m/Library/Frameworks/Python.framework/Versions/3.11/lib/python3.11/site-packages/matplotlib/axes/_axes.py:4289\u001b[0m, in \u001b[0;36mAxes.bxp\u001b[0;34m(self, bxpstats, positions, widths, vert, patch_artist, shownotches, showmeans, showcaps, showbox, showfliers, boxprops, whiskerprops, flierprops, medianprops, capprops, meanprops, meanline, manage_ticks, zorder, capwidths)\u001b[0m\n\u001b[1;32m   4286\u001b[0m interval[:] \u001b[39m=\u001b[39m (\u001b[39mmin\u001b[39m(interval[\u001b[39m0\u001b[39m], \u001b[39mmin\u001b[39m(positions) \u001b[39m-\u001b[39m \u001b[39m.5\u001b[39m),\n\u001b[1;32m   4287\u001b[0m                \u001b[39mmax\u001b[39m(interval[\u001b[39m1\u001b[39m], \u001b[39mmax\u001b[39m(positions) \u001b[39m+\u001b[39m \u001b[39m.5\u001b[39m))\n\u001b[1;32m   4288\u001b[0m \u001b[39mfor\u001b[39;00m median, position \u001b[39min\u001b[39;00m \u001b[39mzip\u001b[39m(medians, positions):\n\u001b[0;32m-> 4289\u001b[0m     \u001b[39mgetattr\u001b[39m(median\u001b[39m.\u001b[39msticky_edges, axis_name)\u001b[39m.\u001b[39mextend(\n\u001b[1;32m   4290\u001b[0m         [position \u001b[39m-\u001b[39m \u001b[39m.5\u001b[39m, position \u001b[39m+\u001b[39m \u001b[39m.5\u001b[39m])\n\u001b[1;32m   4291\u001b[0m \u001b[39m# Modified from Axis.set_ticks and Axis.set_ticklabels.\u001b[39;00m\n\u001b[1;32m   4292\u001b[0m locator \u001b[39m=\u001b[39m axis\u001b[39m.\u001b[39mget_major_locator()\n",
      "\u001b[0;31mKeyboardInterrupt\u001b[0m: "
     ]
    }
   ],
   "source": [
    "# preguntarle a Cesar en la tutoría\n",
    "\n",
    "sns.boxplot(x= \"id_empleado\", data = df_empleados)\n",
    "\n",
    "plt.show();"
   ]
  },
  {
   "attachments": {},
   "cell_type": "markdown",
   "metadata": {},
   "source": [
    "\n",
    "- En la segunda gráfica, ¿Son los empleados que atienden más tickets los que tardan más en solucionar los problemas de los clientes?\n",
    "    - Deberéis crear una lista donde tengamos los \"id's\" de los 10 empleados que resuelvan más cantidad tickets y con los 10 empleados que resuelvan menos cantidad de tickets.\n",
    "    - Usando la lista generada en el ejercicio anterior filtrad el dataframe para quedaros solo con los 10 seleccionados en el ejercicio anterior.\n",
    "    - Una vez tengáis el dataframe filtrado, cread una gráfica donde veamos el tiempo de resolución de solicitudes para cada empleado.\n"
   ]
  },
  {
   "cell_type": "code",
   "execution_count": null,
   "metadata": {},
   "outputs": [
    {
     "ename": "NameError",
     "evalue": "name 'df_empleados' is not defined",
     "output_type": "error",
     "traceback": [
      "\u001b[0;31m---------------------------------------------------------------------------\u001b[0m",
      "\u001b[0;31mNameError\u001b[0m                                 Traceback (most recent call last)",
      "Cell \u001b[0;32mIn[1], line 1\u001b[0m\n\u001b[0;32m----> 1\u001b[0m lista_10_primeros \u001b[39m=\u001b[39m df_empleados\u001b[39m.\u001b[39miloc[\u001b[39m0\u001b[39m:\u001b[39m11\u001b[39m]\n\u001b[1;32m      2\u001b[0m lista_10_primeros\n",
      "\u001b[0;31mNameError\u001b[0m: name 'df_empleados' is not defined"
     ]
    }
   ],
   "source": [
    "lista_10_primeros = df_empleados.iloc[0:11]\n",
    "lista_10_primeros"
   ]
  },
  {
   "attachments": {},
   "cell_type": "markdown",
   "metadata": {},
   "source": [
    "\n",
    "        \n",
    "- En la tercera gráfica, ¿Y la media de la satisfacción de los clientes es menor en aquellos empleados que atienden más solicitudes?:\n",
    "📌 Usaremos los mismos datos que en la pregunta anterior, el dataframe de los 10 empleados más productivos y menos productivos.\n",
    "  - Cread una gráfica donde veamos la satisfacción de los clientes para cada empleado."
   ]
  },
  {
   "cell_type": "code",
   "execution_count": null,
   "metadata": {},
   "outputs": [],
   "source": []
  }
 ],
 "metadata": {
  "kernelspec": {
   "display_name": "adalabenv",
   "language": "python",
   "name": "python3"
  },
  "language_info": {
   "codemirror_mode": {
    "name": "ipython",
    "version": 3
   },
   "file_extension": ".py",
   "mimetype": "text/x-python",
   "name": "python",
   "nbconvert_exporter": "python",
   "pygments_lexer": "ipython3",
   "version": "3.11.0"
  },
  "orig_nbformat": 4
 },
 "nbformat": 4,
 "nbformat_minor": 2
}
